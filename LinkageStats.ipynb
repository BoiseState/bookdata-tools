{
 "cells": [
  {
   "cell_type": "markdown",
   "metadata": {},
   "source": [
    "# Book Data Linkage Statistics\n",
    "\n",
    "This notebook presents linkage statistics for the book data integration."
   ]
  },
  {
   "cell_type": "markdown",
   "metadata": {},
   "source": [
    "## Setup"
   ]
  },
  {
   "cell_type": "code",
   "execution_count": 1,
   "metadata": {},
   "outputs": [],
   "source": [
    "import pandas as pd\n",
    "import seaborn as sns\n",
    "import matplotlib as mpl\n",
    "import matplotlib.pyplot as plt\n",
    "import numpy as np"
   ]
  },
  {
   "cell_type": "code",
   "execution_count": 2,
   "metadata": {},
   "outputs": [],
   "source": [
    "from bookdata.db import db_url"
   ]
  },
  {
   "cell_type": "markdown",
   "metadata": {},
   "source": [
    "## Load Link Stats\n",
    "\n",
    "The `integration_stats` table in the database contains link success statistics in our data."
   ]
  },
  {
   "cell_type": "code",
   "execution_count": 3,
   "metadata": {},
   "outputs": [
    {
     "data": {
      "text/html": [
       "<div>\n",
       "<style scoped>\n",
       "    .dataframe tbody tr th:only-of-type {\n",
       "        vertical-align: middle;\n",
       "    }\n",
       "\n",
       "    .dataframe tbody tr th {\n",
       "        vertical-align: top;\n",
       "    }\n",
       "\n",
       "    .dataframe thead th {\n",
       "        text-align: right;\n",
       "    }\n",
       "</style>\n",
       "<table border=\"1\" class=\"dataframe\">\n",
       "  <thead>\n",
       "    <tr style=\"text-align: right;\">\n",
       "      <th></th>\n",
       "      <th>dataset</th>\n",
       "      <th>gender</th>\n",
       "      <th>n_books</th>\n",
       "      <th>n_actions</th>\n",
       "    </tr>\n",
       "  </thead>\n",
       "  <tbody>\n",
       "    <tr>\n",
       "      <td>0</td>\n",
       "      <td>LOC-MDS</td>\n",
       "      <td>no-loc-author</td>\n",
       "      <td>843706</td>\n",
       "      <td>NaN</td>\n",
       "    </tr>\n",
       "    <tr>\n",
       "      <td>1</td>\n",
       "      <td>LOC-MDS</td>\n",
       "      <td>female</td>\n",
       "      <td>664157</td>\n",
       "      <td>NaN</td>\n",
       "    </tr>\n",
       "    <tr>\n",
       "      <td>2</td>\n",
       "      <td>LOC-MDS</td>\n",
       "      <td>unknown</td>\n",
       "      <td>1214561</td>\n",
       "      <td>NaN</td>\n",
       "    </tr>\n",
       "    <tr>\n",
       "      <td>3</td>\n",
       "      <td>LOC-MDS</td>\n",
       "      <td>ambiguous</td>\n",
       "      <td>53019</td>\n",
       "      <td>NaN</td>\n",
       "    </tr>\n",
       "    <tr>\n",
       "      <td>4</td>\n",
       "      <td>LOC-MDS</td>\n",
       "      <td>male</td>\n",
       "      <td>2194657</td>\n",
       "      <td>NaN</td>\n",
       "    </tr>\n",
       "  </tbody>\n",
       "</table>\n",
       "</div>"
      ],
      "text/plain": [
       "   dataset         gender  n_books  n_actions\n",
       "0  LOC-MDS  no-loc-author   843706        NaN\n",
       "1  LOC-MDS         female   664157        NaN\n",
       "2  LOC-MDS        unknown  1214561        NaN\n",
       "3  LOC-MDS      ambiguous    53019        NaN\n",
       "4  LOC-MDS           male  2194657        NaN"
      ]
     },
     "execution_count": 3,
     "metadata": {},
     "output_type": "execute_result"
    }
   ],
   "source": [
    "link_stats = pd.read_sql_table('integration_stats', db_url())\n",
    "link_stats.head()"
   ]
  },
  {
   "cell_type": "markdown",
   "metadata": {},
   "source": [
    "Let's create lists for our different codes, in order, for later handling.  We'll start with the resolved codes:"
   ]
  },
  {
   "cell_type": "code",
   "execution_count": 4,
   "metadata": {},
   "outputs": [],
   "source": [
    "link_codes = ['female', 'male', 'ambiguous', 'unknown']"
   ]
  },
  {
   "cell_type": "markdown",
   "metadata": {},
   "source": [
    "We want the unlink codes in order, so the last is the first link failure:"
   ]
  },
  {
   "cell_type": "code",
   "execution_count": 5,
   "metadata": {},
   "outputs": [],
   "source": [
    "unlink_codes = ['no-viaf-author', 'no-loc-author', 'no-book']"
   ]
  },
  {
   "cell_type": "markdown",
   "metadata": {},
   "source": [
    "Now we'll pivot each of our count columns into a table for easier reference."
   ]
  },
  {
   "cell_type": "code",
   "execution_count": 6,
   "metadata": {},
   "outputs": [
    {
     "data": {
      "text/html": [
       "<div>\n",
       "<style scoped>\n",
       "    .dataframe tbody tr th:only-of-type {\n",
       "        vertical-align: middle;\n",
       "    }\n",
       "\n",
       "    .dataframe tbody tr th {\n",
       "        vertical-align: top;\n",
       "    }\n",
       "\n",
       "    .dataframe thead th {\n",
       "        text-align: right;\n",
       "    }\n",
       "</style>\n",
       "<table border=\"1\" class=\"dataframe\">\n",
       "  <thead>\n",
       "    <tr style=\"text-align: right;\">\n",
       "      <th>gender</th>\n",
       "      <th>female</th>\n",
       "      <th>male</th>\n",
       "      <th>ambiguous</th>\n",
       "      <th>unknown</th>\n",
       "      <th>no-viaf-author</th>\n",
       "      <th>no-loc-author</th>\n",
       "      <th>no-book</th>\n",
       "    </tr>\n",
       "    <tr>\n",
       "      <th>dataset</th>\n",
       "      <th></th>\n",
       "      <th></th>\n",
       "      <th></th>\n",
       "      <th></th>\n",
       "      <th></th>\n",
       "      <th></th>\n",
       "      <th></th>\n",
       "    </tr>\n",
       "  </thead>\n",
       "  <tbody>\n",
       "    <tr>\n",
       "      <td>AZ</td>\n",
       "      <td>213902.0</td>\n",
       "      <td>476724.0</td>\n",
       "      <td>16854.0</td>\n",
       "      <td>234088.0</td>\n",
       "      <td>154921.0</td>\n",
       "      <td>144989.0</td>\n",
       "      <td>1027394.0</td>\n",
       "    </tr>\n",
       "    <tr>\n",
       "      <td>BX-E</td>\n",
       "      <td>38087.0</td>\n",
       "      <td>55939.0</td>\n",
       "      <td>3991.0</td>\n",
       "      <td>16903.0</td>\n",
       "      <td>7661.0</td>\n",
       "      <td>6465.0</td>\n",
       "      <td>22735.0</td>\n",
       "    </tr>\n",
       "    <tr>\n",
       "      <td>BX-I</td>\n",
       "      <td>67071.0</td>\n",
       "      <td>96994.0</td>\n",
       "      <td>6739.0</td>\n",
       "      <td>34632.0</td>\n",
       "      <td>15673.0</td>\n",
       "      <td>12916.0</td>\n",
       "      <td>45669.0</td>\n",
       "    </tr>\n",
       "    <tr>\n",
       "      <td>GR-E</td>\n",
       "      <td>172953.0</td>\n",
       "      <td>272728.0</td>\n",
       "      <td>10903.0</td>\n",
       "      <td>94553.0</td>\n",
       "      <td>34198.0</td>\n",
       "      <td>495701.0</td>\n",
       "      <td>NaN</td>\n",
       "    </tr>\n",
       "    <tr>\n",
       "      <td>GR-I</td>\n",
       "      <td>174572.0</td>\n",
       "      <td>276093.0</td>\n",
       "      <td>11005.0</td>\n",
       "      <td>96316.0</td>\n",
       "      <td>35014.0</td>\n",
       "      <td>503902.0</td>\n",
       "      <td>NaN</td>\n",
       "    </tr>\n",
       "    <tr>\n",
       "      <td>LOC-MDS</td>\n",
       "      <td>664157.0</td>\n",
       "      <td>2194657.0</td>\n",
       "      <td>53019.0</td>\n",
       "      <td>1214561.0</td>\n",
       "      <td>296903.0</td>\n",
       "      <td>843706.0</td>\n",
       "      <td>NaN</td>\n",
       "    </tr>\n",
       "  </tbody>\n",
       "</table>\n",
       "</div>"
      ],
      "text/plain": [
       "gender     female       male  ambiguous    unknown  no-viaf-author  \\\n",
       "dataset                                                              \n",
       "AZ       213902.0   476724.0    16854.0   234088.0        154921.0   \n",
       "BX-E      38087.0    55939.0     3991.0    16903.0          7661.0   \n",
       "BX-I      67071.0    96994.0     6739.0    34632.0         15673.0   \n",
       "GR-E     172953.0   272728.0    10903.0    94553.0         34198.0   \n",
       "GR-I     174572.0   276093.0    11005.0    96316.0         35014.0   \n",
       "LOC-MDS  664157.0  2194657.0    53019.0  1214561.0        296903.0   \n",
       "\n",
       "gender   no-loc-author    no-book  \n",
       "dataset                            \n",
       "AZ            144989.0  1027394.0  \n",
       "BX-E            6465.0    22735.0  \n",
       "BX-I           12916.0    45669.0  \n",
       "GR-E          495701.0        NaN  \n",
       "GR-I          503902.0        NaN  \n",
       "LOC-MDS       843706.0        NaN  "
      ]
     },
     "execution_count": 6,
     "metadata": {},
     "output_type": "execute_result"
    }
   ],
   "source": [
    "book_counts = link_stats.pivot(index='dataset', columns='gender', values='n_books')\n",
    "book_counts = book_counts.reindex(columns=link_codes + unlink_codes)\n",
    "book_counts"
   ]
  },
  {
   "cell_type": "code",
   "execution_count": 7,
   "metadata": {},
   "outputs": [
    {
     "data": {
      "text/html": [
       "<div>\n",
       "<style scoped>\n",
       "    .dataframe tbody tr th:only-of-type {\n",
       "        vertical-align: middle;\n",
       "    }\n",
       "\n",
       "    .dataframe tbody tr th {\n",
       "        vertical-align: top;\n",
       "    }\n",
       "\n",
       "    .dataframe thead th {\n",
       "        text-align: right;\n",
       "    }\n",
       "</style>\n",
       "<table border=\"1\" class=\"dataframe\">\n",
       "  <thead>\n",
       "    <tr style=\"text-align: right;\">\n",
       "      <th>gender</th>\n",
       "      <th>female</th>\n",
       "      <th>male</th>\n",
       "      <th>ambiguous</th>\n",
       "      <th>unknown</th>\n",
       "      <th>no-viaf-author</th>\n",
       "      <th>no-loc-author</th>\n",
       "      <th>no-book</th>\n",
       "    </tr>\n",
       "    <tr>\n",
       "      <th>dataset</th>\n",
       "      <th></th>\n",
       "      <th></th>\n",
       "      <th></th>\n",
       "      <th></th>\n",
       "      <th></th>\n",
       "      <th></th>\n",
       "      <th></th>\n",
       "    </tr>\n",
       "  </thead>\n",
       "  <tbody>\n",
       "    <tr>\n",
       "      <td>AZ</td>\n",
       "      <td>4281101.0</td>\n",
       "      <td>6512944.0</td>\n",
       "      <td>522983.0</td>\n",
       "      <td>2045342.0</td>\n",
       "      <td>782399.0</td>\n",
       "      <td>2085552.0</td>\n",
       "      <td>6231611.0</td>\n",
       "    </tr>\n",
       "    <tr>\n",
       "      <td>BX-E</td>\n",
       "      <td>138667.0</td>\n",
       "      <td>184591.0</td>\n",
       "      <td>30736.0</td>\n",
       "      <td>27458.0</td>\n",
       "      <td>9807.0</td>\n",
       "      <td>9417.0</td>\n",
       "      <td>26464.0</td>\n",
       "    </tr>\n",
       "    <tr>\n",
       "      <td>BX-I</td>\n",
       "      <td>391304.0</td>\n",
       "      <td>466535.0</td>\n",
       "      <td>76979.0</td>\n",
       "      <td>77959.0</td>\n",
       "      <td>26352.0</td>\n",
       "      <td>25781.0</td>\n",
       "      <td>64510.0</td>\n",
       "    </tr>\n",
       "    <tr>\n",
       "      <td>GR-E</td>\n",
       "      <td>32374238.0</td>\n",
       "      <td>33491507.0</td>\n",
       "      <td>8168343.0</td>\n",
       "      <td>3593338.0</td>\n",
       "      <td>604877.0</td>\n",
       "      <td>8314444.0</td>\n",
       "      <td>NaN</td>\n",
       "    </tr>\n",
       "    <tr>\n",
       "      <td>GR-I</td>\n",
       "      <td>70853353.0</td>\n",
       "      <td>68114258.0</td>\n",
       "      <td>13225960.0</td>\n",
       "      <td>9564873.0</td>\n",
       "      <td>1719727.0</td>\n",
       "      <td>25473714.0</td>\n",
       "      <td>NaN</td>\n",
       "    </tr>\n",
       "  </tbody>\n",
       "</table>\n",
       "</div>"
      ],
      "text/plain": [
       "gender       female        male   ambiguous    unknown  no-viaf-author  \\\n",
       "dataset                                                                  \n",
       "AZ        4281101.0   6512944.0    522983.0  2045342.0        782399.0   \n",
       "BX-E       138667.0    184591.0     30736.0    27458.0          9807.0   \n",
       "BX-I       391304.0    466535.0     76979.0    77959.0         26352.0   \n",
       "GR-E     32374238.0  33491507.0   8168343.0  3593338.0        604877.0   \n",
       "GR-I     70853353.0  68114258.0  13225960.0  9564873.0       1719727.0   \n",
       "\n",
       "gender   no-loc-author    no-book  \n",
       "dataset                            \n",
       "AZ           2085552.0  6231611.0  \n",
       "BX-E            9417.0    26464.0  \n",
       "BX-I           25781.0    64510.0  \n",
       "GR-E         8314444.0        NaN  \n",
       "GR-I        25473714.0        NaN  "
      ]
     },
     "execution_count": 7,
     "metadata": {},
     "output_type": "execute_result"
    }
   ],
   "source": [
    "act_counts = link_stats.pivot(index='dataset', columns='gender', values='n_actions')\n",
    "act_counts = act_counts.reindex(columns=link_codes + unlink_codes)\n",
    "act_counts.drop(index='LOC-MDS', inplace=True)\n",
    "act_counts"
   ]
  },
  {
   "cell_type": "markdown",
   "metadata": {},
   "source": [
    "We're going to want to compute versions of this table as fractions, e.g. the fraction of books that are written by women.  We will use the following helper function:"
   ]
  },
  {
   "cell_type": "code",
   "execution_count": 8,
   "metadata": {},
   "outputs": [],
   "source": [
    "def fractionalize(data, columns, unlinked=None):\n",
    "    fracs = data[columns]\n",
    "    if unlinked:\n",
    "        fracs = fracs.assign(unlinked=data[unlinked].sum(axis=1))\n",
    "    totals = fracs.sum(axis=1)\n",
    "    return fracs.divide(totals, axis=0)"
   ]
  },
  {
   "cell_type": "markdown",
   "metadata": {},
   "source": [
    "And a helper function for plotting bar charts:"
   ]
  },
  {
   "cell_type": "code",
   "execution_count": 9,
   "metadata": {},
   "outputs": [],
   "source": [
    "def plot_bars(fracs, ax=None, cmap=mpl.cm.Dark2):\n",
    "    if ax is None:\n",
    "        ax = plt.gca()\n",
    "    size = 0.5\n",
    "    ind = np.arange(len(fracs))\n",
    "    start = pd.Series(0, index=fracs.index)\n",
    "    for i, col in enumerate(fracs.columns):\n",
    "        vals = fracs.iloc[:, i]\n",
    "        rects = ax.barh(ind, vals, size, left=start, label=col, color=cmap(i))\n",
    "        for j, rec in enumerate(rects):\n",
    "            if vals.iloc[j] < 0.1: continue\n",
    "            y = rec.get_y() + rec.get_height() / 2\n",
    "            x = start.iloc[j] + vals.iloc[j] / 2\n",
    "            ax.annotate('{:.1f}%'.format(vals.iloc[j] * 100),\n",
    "                        xy=(x,y), ha='center', va='center', color='white',\n",
    "                        fontweight='bold')\n",
    "        start += vals\n",
    "    ax.set_xlabel('Fraction of Books')\n",
    "    ax.set_ylabel('Data Set')\n",
    "    ax.set_yticks(ind)\n",
    "    ax.set_yticklabels(fracs.index)\n",
    "    ax.legend(loc='center left', bbox_to_anchor=(1, 0.5))"
   ]
  },
  {
   "cell_type": "markdown",
   "metadata": {},
   "source": [
    "## Resolution of Books\n",
    "\n",
    "What fraction of *unique books* are resolved from each source?"
   ]
  },
  {
   "cell_type": "code",
   "execution_count": 10,
   "metadata": {},
   "outputs": [
    {
     "data": {
      "text/html": [
       "<div>\n",
       "<style scoped>\n",
       "    .dataframe tbody tr th:only-of-type {\n",
       "        vertical-align: middle;\n",
       "    }\n",
       "\n",
       "    .dataframe tbody tr th {\n",
       "        vertical-align: top;\n",
       "    }\n",
       "\n",
       "    .dataframe thead th {\n",
       "        text-align: right;\n",
       "    }\n",
       "</style>\n",
       "<table border=\"1\" class=\"dataframe\">\n",
       "  <thead>\n",
       "    <tr style=\"text-align: right;\">\n",
       "      <th>gender</th>\n",
       "      <th>female</th>\n",
       "      <th>male</th>\n",
       "      <th>ambiguous</th>\n",
       "      <th>unknown</th>\n",
       "      <th>no-viaf-author</th>\n",
       "      <th>no-loc-author</th>\n",
       "      <th>no-book</th>\n",
       "    </tr>\n",
       "    <tr>\n",
       "      <th>dataset</th>\n",
       "      <th></th>\n",
       "      <th></th>\n",
       "      <th></th>\n",
       "      <th></th>\n",
       "      <th></th>\n",
       "      <th></th>\n",
       "      <th></th>\n",
       "    </tr>\n",
       "  </thead>\n",
       "  <tbody>\n",
       "    <tr>\n",
       "      <td>AZ</td>\n",
       "      <td>0.094277</td>\n",
       "      <td>0.210115</td>\n",
       "      <td>0.007428</td>\n",
       "      <td>0.103174</td>\n",
       "      <td>0.068281</td>\n",
       "      <td>0.063904</td>\n",
       "      <td>0.452821</td>\n",
       "    </tr>\n",
       "    <tr>\n",
       "      <td>BX-E</td>\n",
       "      <td>0.250934</td>\n",
       "      <td>0.368551</td>\n",
       "      <td>0.026294</td>\n",
       "      <td>0.111364</td>\n",
       "      <td>0.050474</td>\n",
       "      <td>0.042594</td>\n",
       "      <td>0.149788</td>\n",
       "    </tr>\n",
       "    <tr>\n",
       "      <td>BX-I</td>\n",
       "      <td>0.239801</td>\n",
       "      <td>0.346786</td>\n",
       "      <td>0.024094</td>\n",
       "      <td>0.123821</td>\n",
       "      <td>0.056036</td>\n",
       "      <td>0.046179</td>\n",
       "      <td>0.163282</td>\n",
       "    </tr>\n",
       "    <tr>\n",
       "      <td>GR-E</td>\n",
       "      <td>0.159988</td>\n",
       "      <td>0.252284</td>\n",
       "      <td>0.010086</td>\n",
       "      <td>0.087465</td>\n",
       "      <td>0.031634</td>\n",
       "      <td>0.458543</td>\n",
       "      <td>NaN</td>\n",
       "    </tr>\n",
       "    <tr>\n",
       "      <td>GR-I</td>\n",
       "      <td>0.159150</td>\n",
       "      <td>0.251703</td>\n",
       "      <td>0.010033</td>\n",
       "      <td>0.087807</td>\n",
       "      <td>0.031921</td>\n",
       "      <td>0.459387</td>\n",
       "      <td>NaN</td>\n",
       "    </tr>\n",
       "    <tr>\n",
       "      <td>LOC-MDS</td>\n",
       "      <td>0.126098</td>\n",
       "      <td>0.416680</td>\n",
       "      <td>0.010066</td>\n",
       "      <td>0.230598</td>\n",
       "      <td>0.056370</td>\n",
       "      <td>0.160187</td>\n",
       "      <td>NaN</td>\n",
       "    </tr>\n",
       "  </tbody>\n",
       "</table>\n",
       "</div>"
      ],
      "text/plain": [
       "gender     female      male  ambiguous   unknown  no-viaf-author  \\\n",
       "dataset                                                            \n",
       "AZ       0.094277  0.210115   0.007428  0.103174        0.068281   \n",
       "BX-E     0.250934  0.368551   0.026294  0.111364        0.050474   \n",
       "BX-I     0.239801  0.346786   0.024094  0.123821        0.056036   \n",
       "GR-E     0.159988  0.252284   0.010086  0.087465        0.031634   \n",
       "GR-I     0.159150  0.251703   0.010033  0.087807        0.031921   \n",
       "LOC-MDS  0.126098  0.416680   0.010066  0.230598        0.056370   \n",
       "\n",
       "gender   no-loc-author   no-book  \n",
       "dataset                           \n",
       "AZ            0.063904  0.452821  \n",
       "BX-E          0.042594  0.149788  \n",
       "BX-I          0.046179  0.163282  \n",
       "GR-E          0.458543       NaN  \n",
       "GR-I          0.459387       NaN  \n",
       "LOC-MDS       0.160187       NaN  "
      ]
     },
     "execution_count": 10,
     "metadata": {},
     "output_type": "execute_result"
    }
   ],
   "source": [
    "fractionalize(book_counts, link_codes + unlink_codes)"
   ]
  },
  {
   "cell_type": "code",
   "execution_count": 11,
   "metadata": {},
   "outputs": [
    {
     "data": {
      "image/png": "[encoded data removed]",
      "text/plain": [
       "<Figure size 432x288 with 1 Axes>"
      ]
     },
     "metadata": {
      "needs_background": "light"
     },
     "output_type": "display_data"
    }
   ],
   "source": [
    "plot_bars(fractionalize(book_counts, link_codes + unlink_codes))"
   ]
  },
  {
   "cell_type": "code",
   "execution_count": 12,
   "metadata": {},
   "outputs": [
    {
     "data": {
      "text/html": [
       "<div>\n",
       "<style scoped>\n",
       "    .dataframe tbody tr th:only-of-type {\n",
       "        vertical-align: middle;\n",
       "    }\n",
       "\n",
       "    .dataframe tbody tr th {\n",
       "        vertical-align: top;\n",
       "    }\n",
       "\n",
       "    .dataframe thead th {\n",
       "        text-align: right;\n",
       "    }\n",
       "</style>\n",
       "<table border=\"1\" class=\"dataframe\">\n",
       "  <thead>\n",
       "    <tr style=\"text-align: right;\">\n",
       "      <th>gender</th>\n",
       "      <th>female</th>\n",
       "      <th>male</th>\n",
       "      <th>ambiguous</th>\n",
       "      <th>unknown</th>\n",
       "      <th>unlinked</th>\n",
       "    </tr>\n",
       "    <tr>\n",
       "      <th>dataset</th>\n",
       "      <th></th>\n",
       "      <th></th>\n",
       "      <th></th>\n",
       "      <th></th>\n",
       "      <th></th>\n",
       "    </tr>\n",
       "  </thead>\n",
       "  <tbody>\n",
       "    <tr>\n",
       "      <td>AZ</td>\n",
       "      <td>0.094277</td>\n",
       "      <td>0.210115</td>\n",
       "      <td>0.007428</td>\n",
       "      <td>0.103174</td>\n",
       "      <td>0.585006</td>\n",
       "    </tr>\n",
       "    <tr>\n",
       "      <td>BX-E</td>\n",
       "      <td>0.250934</td>\n",
       "      <td>0.368551</td>\n",
       "      <td>0.026294</td>\n",
       "      <td>0.111364</td>\n",
       "      <td>0.242856</td>\n",
       "    </tr>\n",
       "    <tr>\n",
       "      <td>BX-I</td>\n",
       "      <td>0.239801</td>\n",
       "      <td>0.346786</td>\n",
       "      <td>0.024094</td>\n",
       "      <td>0.123821</td>\n",
       "      <td>0.265497</td>\n",
       "    </tr>\n",
       "    <tr>\n",
       "      <td>GR-E</td>\n",
       "      <td>0.159988</td>\n",
       "      <td>0.252284</td>\n",
       "      <td>0.010086</td>\n",
       "      <td>0.087465</td>\n",
       "      <td>0.490177</td>\n",
       "    </tr>\n",
       "    <tr>\n",
       "      <td>GR-I</td>\n",
       "      <td>0.159150</td>\n",
       "      <td>0.251703</td>\n",
       "      <td>0.010033</td>\n",
       "      <td>0.087807</td>\n",
       "      <td>0.491307</td>\n",
       "    </tr>\n",
       "    <tr>\n",
       "      <td>LOC-MDS</td>\n",
       "      <td>0.126098</td>\n",
       "      <td>0.416680</td>\n",
       "      <td>0.010066</td>\n",
       "      <td>0.230598</td>\n",
       "      <td>0.216557</td>\n",
       "    </tr>\n",
       "  </tbody>\n",
       "</table>\n",
       "</div>"
      ],
      "text/plain": [
       "gender     female      male  ambiguous   unknown  unlinked\n",
       "dataset                                                   \n",
       "AZ       0.094277  0.210115   0.007428  0.103174  0.585006\n",
       "BX-E     0.250934  0.368551   0.026294  0.111364  0.242856\n",
       "BX-I     0.239801  0.346786   0.024094  0.123821  0.265497\n",
       "GR-E     0.159988  0.252284   0.010086  0.087465  0.490177\n",
       "GR-I     0.159150  0.251703   0.010033  0.087807  0.491307\n",
       "LOC-MDS  0.126098  0.416680   0.010066  0.230598  0.216557"
      ]
     },
     "execution_count": 12,
     "metadata": {},
     "output_type": "execute_result"
    }
   ],
   "source": [
    "fractionalize(book_counts, link_codes, unlink_codes)"
   ]
  },
  {
   "cell_type": "code",
   "execution_count": 13,
   "metadata": {},
   "outputs": [
    {
     "data": {
      "image/png": "[encoded data removed]",
      "text/plain": [
       "<Figure size 432x288 with 1 Axes>"
      ]
     },
     "metadata": {
      "needs_background": "light"
     },
     "output_type": "display_data"
    }
   ],
   "source": [
    "plot_bars(fractionalize(book_counts, link_codes, unlink_codes))"
   ]
  },
  {
   "cell_type": "code",
   "execution_count": 14,
   "metadata": {},
   "outputs": [
    {
     "data": {
      "image/png": "[encoded data removed]",
      "text/plain": [
       "<Figure size 432x288 with 1 Axes>"
      ]
     },
     "metadata": {
      "needs_background": "light"
     },
     "output_type": "display_data"
    }
   ],
   "source": [
    "plot_bars(fractionalize(book_counts, ['female', 'male']))"
   ]
  },
  {
   "cell_type": "markdown",
   "metadata": {},
   "source": [
    "## Resolution of Ratings\n",
    "\n",
    "What fraction of *rating actions* have each resolution result?"
   ]
  },
  {
   "cell_type": "code",
   "execution_count": 15,
   "metadata": {},
   "outputs": [
    {
     "data": {
      "text/html": [
       "<div>\n",
       "<style scoped>\n",
       "    .dataframe tbody tr th:only-of-type {\n",
       "        vertical-align: middle;\n",
       "    }\n",
       "\n",
       "    .dataframe tbody tr th {\n",
       "        vertical-align: top;\n",
       "    }\n",
       "\n",
       "    .dataframe thead th {\n",
       "        text-align: right;\n",
       "    }\n",
       "</style>\n",
       "<table border=\"1\" class=\"dataframe\">\n",
       "  <thead>\n",
       "    <tr style=\"text-align: right;\">\n",
       "      <th>gender</th>\n",
       "      <th>female</th>\n",
       "      <th>male</th>\n",
       "      <th>ambiguous</th>\n",
       "      <th>unknown</th>\n",
       "      <th>no-viaf-author</th>\n",
       "      <th>no-loc-author</th>\n",
       "      <th>no-book</th>\n",
       "    </tr>\n",
       "    <tr>\n",
       "      <th>dataset</th>\n",
       "      <th></th>\n",
       "      <th></th>\n",
       "      <th></th>\n",
       "      <th></th>\n",
       "      <th></th>\n",
       "      <th></th>\n",
       "      <th></th>\n",
       "    </tr>\n",
       "  </thead>\n",
       "  <tbody>\n",
       "    <tr>\n",
       "      <td>AZ</td>\n",
       "      <td>0.190594</td>\n",
       "      <td>0.289955</td>\n",
       "      <td>0.023283</td>\n",
       "      <td>0.091058</td>\n",
       "      <td>0.034832</td>\n",
       "      <td>0.092848</td>\n",
       "      <td>0.277430</td>\n",
       "    </tr>\n",
       "    <tr>\n",
       "      <td>BX-E</td>\n",
       "      <td>0.324641</td>\n",
       "      <td>0.432156</td>\n",
       "      <td>0.071958</td>\n",
       "      <td>0.064283</td>\n",
       "      <td>0.022960</td>\n",
       "      <td>0.022047</td>\n",
       "      <td>0.061956</td>\n",
       "    </tr>\n",
       "    <tr>\n",
       "      <td>BX-I</td>\n",
       "      <td>0.346465</td>\n",
       "      <td>0.413075</td>\n",
       "      <td>0.068158</td>\n",
       "      <td>0.069026</td>\n",
       "      <td>0.023332</td>\n",
       "      <td>0.022827</td>\n",
       "      <td>0.057118</td>\n",
       "    </tr>\n",
       "    <tr>\n",
       "      <td>GR-E</td>\n",
       "      <td>0.374066</td>\n",
       "      <td>0.386976</td>\n",
       "      <td>0.094381</td>\n",
       "      <td>0.041519</td>\n",
       "      <td>0.006989</td>\n",
       "      <td>0.096069</td>\n",
       "      <td>NaN</td>\n",
       "    </tr>\n",
       "    <tr>\n",
       "      <td>GR-I</td>\n",
       "      <td>0.374981</td>\n",
       "      <td>0.360485</td>\n",
       "      <td>0.069996</td>\n",
       "      <td>0.050621</td>\n",
       "      <td>0.009101</td>\n",
       "      <td>0.134816</td>\n",
       "      <td>NaN</td>\n",
       "    </tr>\n",
       "  </tbody>\n",
       "</table>\n",
       "</div>"
      ],
      "text/plain": [
       "gender     female      male  ambiguous   unknown  no-viaf-author  \\\n",
       "dataset                                                            \n",
       "AZ       0.190594  0.289955   0.023283  0.091058        0.034832   \n",
       "BX-E     0.324641  0.432156   0.071958  0.064283        0.022960   \n",
       "BX-I     0.346465  0.413075   0.068158  0.069026        0.023332   \n",
       "GR-E     0.374066  0.386976   0.094381  0.041519        0.006989   \n",
       "GR-I     0.374981  0.360485   0.069996  0.050621        0.009101   \n",
       "\n",
       "gender   no-loc-author   no-book  \n",
       "dataset                           \n",
       "AZ            0.092848  0.277430  \n",
       "BX-E          0.022047  0.061956  \n",
       "BX-I          0.022827  0.057118  \n",
       "GR-E          0.096069       NaN  \n",
       "GR-I          0.134816       NaN  "
      ]
     },
     "execution_count": 15,
     "metadata": {},
     "output_type": "execute_result"
    }
   ],
   "source": [
    "fractionalize(act_counts, link_codes + unlink_codes)"
   ]
  },
  {
   "cell_type": "code",
   "execution_count": 16,
   "metadata": {},
   "outputs": [
    {
     "data": {
      "image/png": "[encoded data removed]",
      "text/plain": [
       "<Figure size 432x288 with 1 Axes>"
      ]
     },
     "metadata": {
      "needs_background": "light"
     },
     "output_type": "display_data"
    }
   ],
   "source": [
    "plot_bars(fractionalize(act_counts, link_codes + unlink_codes))"
   ]
  },
  {
   "cell_type": "code",
   "execution_count": 17,
   "metadata": {},
   "outputs": [
    {
     "data": {
      "text/html": [
       "<div>\n",
       "<style scoped>\n",
       "    .dataframe tbody tr th:only-of-type {\n",
       "        vertical-align: middle;\n",
       "    }\n",
       "\n",
       "    .dataframe tbody tr th {\n",
       "        vertical-align: top;\n",
       "    }\n",
       "\n",
       "    .dataframe thead th {\n",
       "        text-align: right;\n",
       "    }\n",
       "</style>\n",
       "<table border=\"1\" class=\"dataframe\">\n",
       "  <thead>\n",
       "    <tr style=\"text-align: right;\">\n",
       "      <th>gender</th>\n",
       "      <th>female</th>\n",
       "      <th>male</th>\n",
       "      <th>ambiguous</th>\n",
       "      <th>unknown</th>\n",
       "      <th>unlinked</th>\n",
       "    </tr>\n",
       "    <tr>\n",
       "      <th>dataset</th>\n",
       "      <th></th>\n",
       "      <th></th>\n",
       "      <th></th>\n",
       "      <th></th>\n",
       "      <th></th>\n",
       "    </tr>\n",
       "  </thead>\n",
       "  <tbody>\n",
       "    <tr>\n",
       "      <td>AZ</td>\n",
       "      <td>0.190594</td>\n",
       "      <td>0.289955</td>\n",
       "      <td>0.023283</td>\n",
       "      <td>0.091058</td>\n",
       "      <td>0.405110</td>\n",
       "    </tr>\n",
       "    <tr>\n",
       "      <td>BX-E</td>\n",
       "      <td>0.324641</td>\n",
       "      <td>0.432156</td>\n",
       "      <td>0.071958</td>\n",
       "      <td>0.064283</td>\n",
       "      <td>0.106963</td>\n",
       "    </tr>\n",
       "    <tr>\n",
       "      <td>BX-I</td>\n",
       "      <td>0.346465</td>\n",
       "      <td>0.413075</td>\n",
       "      <td>0.068158</td>\n",
       "      <td>0.069026</td>\n",
       "      <td>0.103277</td>\n",
       "    </tr>\n",
       "    <tr>\n",
       "      <td>GR-E</td>\n",
       "      <td>0.374066</td>\n",
       "      <td>0.386976</td>\n",
       "      <td>0.094381</td>\n",
       "      <td>0.041519</td>\n",
       "      <td>0.103058</td>\n",
       "    </tr>\n",
       "    <tr>\n",
       "      <td>GR-I</td>\n",
       "      <td>0.374981</td>\n",
       "      <td>0.360485</td>\n",
       "      <td>0.069996</td>\n",
       "      <td>0.050621</td>\n",
       "      <td>0.143917</td>\n",
       "    </tr>\n",
       "  </tbody>\n",
       "</table>\n",
       "</div>"
      ],
      "text/plain": [
       "gender     female      male  ambiguous   unknown  unlinked\n",
       "dataset                                                   \n",
       "AZ       0.190594  0.289955   0.023283  0.091058  0.405110\n",
       "BX-E     0.324641  0.432156   0.071958  0.064283  0.106963\n",
       "BX-I     0.346465  0.413075   0.068158  0.069026  0.103277\n",
       "GR-E     0.374066  0.386976   0.094381  0.041519  0.103058\n",
       "GR-I     0.374981  0.360485   0.069996  0.050621  0.143917"
      ]
     },
     "execution_count": 17,
     "metadata": {},
     "output_type": "execute_result"
    }
   ],
   "source": [
    "fractionalize(act_counts, link_codes, unlink_codes)"
   ]
  },
  {
   "cell_type": "code",
   "execution_count": 18,
   "metadata": {},
   "outputs": [
    {
     "data": {
      "image/png": "[encoded data removed]",
      "text/plain": [
       "<Figure size 432x288 with 1 Axes>"
      ]
     },
     "metadata": {
      "needs_background": "light"
     },
     "output_type": "display_data"
    }
   ],
   "source": [
    "plot_bars(fractionalize(act_counts, link_codes, unlink_codes))"
   ]
  },
  {
   "cell_type": "code",
   "execution_count": 19,
   "metadata": {},
   "outputs": [
    {
     "data": {
      "image/png": "[encoded data removed]",
      "text/plain": [
       "<Figure size 432x288 with 1 Axes>"
      ]
     },
     "metadata": {
      "needs_background": "light"
     },
     "output_type": "display_data"
    }
   ],
   "source": [
    "plot_bars(fractionalize(act_counts, ['female', 'male']))"
   ]
  },
  {
   "cell_type": "code",
   "execution_count": null,
   "metadata": {},
   "outputs": [],
   "source": []
  }
 ],
 "metadata": {
  "kernelspec": {
   "display_name": "Python 3",
   "language": "python",
   "name": "python3"
  },
  "language_info": {
   "codemirror_mode": {
    "name": "ipython",
    "version": 3
   },
   "file_extension": ".py",
   "mimetype": "text/x-python",
   "name": "python",
   "nbconvert_exporter": "python",
   "pygments_lexer": "ipython3",
   "version": "3.7.4"
  }
 },
 "nbformat": 4,
 "nbformat_minor": 2
}
