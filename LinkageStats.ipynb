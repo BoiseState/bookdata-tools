{
 "cells": [
  {
   "cell_type": "markdown",
   "metadata": {},
   "source": [
    "# Book Data Linkage Statistics\n",
    "\n",
    "This notebook presents linkage statistics for the book data integration."
   ]
  },
  {
   "cell_type": "markdown",
   "metadata": {},
   "source": [
    "## Setup"
   ]
  },
  {
   "cell_type": "code",
   "execution_count": 1,
   "metadata": {},
   "outputs": [],
   "source": [
    "import pandas as pd\n",
    "import seaborn as sns\n",
    "import matplotlib as mpl\n",
    "import matplotlib.pyplot as plt\n",
    "import numpy as np"
   ]
  },
  {
   "cell_type": "code",
   "execution_count": 2,
   "metadata": {},
   "outputs": [],
   "source": [
    "from bookdata.db import db_url"
   ]
  },
  {
   "cell_type": "markdown",
   "metadata": {},
   "source": [
    "## Load Link Stats\n",
    "\n",
    "The `integration_stats` table in the database contains link success statistics in our data."
   ]
  },
  {
   "cell_type": "code",
   "execution_count": 3,
   "metadata": {},
   "outputs": [
    {
     "data": {
      "text/html": [
       "<div>\n",
       "<style scoped>\n",
       "    .dataframe tbody tr th:only-of-type {\n",
       "        vertical-align: middle;\n",
       "    }\n",
       "\n",
       "    .dataframe tbody tr th {\n",
       "        vertical-align: top;\n",
       "    }\n",
       "\n",
       "    .dataframe thead th {\n",
       "        text-align: right;\n",
       "    }\n",
       "</style>\n",
       "<table border=\"1\" class=\"dataframe\">\n",
       "  <thead>\n",
       "    <tr style=\"text-align: right;\">\n",
       "      <th></th>\n",
       "      <th>dataset</th>\n",
       "      <th>gender</th>\n",
       "      <th>n_books</th>\n",
       "      <th>n_actions</th>\n",
       "    </tr>\n",
       "  </thead>\n",
       "  <tbody>\n",
       "    <tr>\n",
       "      <td>0</td>\n",
       "      <td>LOC-MDS</td>\n",
       "      <td>no-loc-author</td>\n",
       "      <td>762676</td>\n",
       "      <td>NaN</td>\n",
       "    </tr>\n",
       "    <tr>\n",
       "      <td>1</td>\n",
       "      <td>LOC-MDS</td>\n",
       "      <td>female</td>\n",
       "      <td>587449</td>\n",
       "      <td>NaN</td>\n",
       "    </tr>\n",
       "    <tr>\n",
       "      <td>2</td>\n",
       "      <td>LOC-MDS</td>\n",
       "      <td>unknown</td>\n",
       "      <td>1210275</td>\n",
       "      <td>NaN</td>\n",
       "    </tr>\n",
       "    <tr>\n",
       "      <td>3</td>\n",
       "      <td>LOC-MDS</td>\n",
       "      <td>ambiguous</td>\n",
       "      <td>45109</td>\n",
       "      <td>NaN</td>\n",
       "    </tr>\n",
       "    <tr>\n",
       "      <td>4</td>\n",
       "      <td>LOC-MDS</td>\n",
       "      <td>male</td>\n",
       "      <td>1998004</td>\n",
       "      <td>NaN</td>\n",
       "    </tr>\n",
       "  </tbody>\n",
       "</table>\n",
       "</div>"
      ],
      "text/plain": [
       "   dataset         gender  n_books  n_actions\n",
       "0  LOC-MDS  no-loc-author   762676        NaN\n",
       "1  LOC-MDS         female   587449        NaN\n",
       "2  LOC-MDS        unknown  1210275        NaN\n",
       "3  LOC-MDS      ambiguous    45109        NaN\n",
       "4  LOC-MDS           male  1998004        NaN"
      ]
     },
     "execution_count": 3,
     "metadata": {},
     "output_type": "execute_result"
    }
   ],
   "source": [
    "link_stats = pd.read_sql_table('integration_stats', db_url())\n",
    "link_stats.head()"
   ]
  },
  {
   "cell_type": "markdown",
   "metadata": {},
   "source": [
    "Let's create lists for our different codes, in order, for later handling.  We'll start with the resolved codes:"
   ]
  },
  {
   "cell_type": "code",
   "execution_count": 4,
   "metadata": {},
   "outputs": [],
   "source": [
    "link_codes = ['female', 'male', 'ambiguous', 'unknown']"
   ]
  },
  {
   "cell_type": "markdown",
   "metadata": {},
   "source": [
    "We want the unlink codes in order, so the last is the first link failure:"
   ]
  },
  {
   "cell_type": "code",
   "execution_count": 5,
   "metadata": {},
   "outputs": [],
   "source": [
    "unlink_codes = ['no-viaf-author', 'no-loc-author', 'no-book']"
   ]
  },
  {
   "cell_type": "markdown",
   "metadata": {},
   "source": [
    "Now we'll pivot each of our count columns into a table for easier reference."
   ]
  },
  {
   "cell_type": "code",
   "execution_count": 6,
   "metadata": {},
   "outputs": [
    {
     "data": {
      "text/html": [
       "<div>\n",
       "<style scoped>\n",
       "    .dataframe tbody tr th:only-of-type {\n",
       "        vertical-align: middle;\n",
       "    }\n",
       "\n",
       "    .dataframe tbody tr th {\n",
       "        vertical-align: top;\n",
       "    }\n",
       "\n",
       "    .dataframe thead th {\n",
       "        text-align: right;\n",
       "    }\n",
       "</style>\n",
       "<table border=\"1\" class=\"dataframe\">\n",
       "  <thead>\n",
       "    <tr style=\"text-align: right;\">\n",
       "      <th>gender</th>\n",
       "      <th>female</th>\n",
       "      <th>male</th>\n",
       "      <th>ambiguous</th>\n",
       "      <th>unknown</th>\n",
       "      <th>no-viaf-author</th>\n",
       "      <th>no-loc-author</th>\n",
       "      <th>no-book</th>\n",
       "    </tr>\n",
       "    <tr>\n",
       "      <th>dataset</th>\n",
       "      <th></th>\n",
       "      <th></th>\n",
       "      <th></th>\n",
       "      <th></th>\n",
       "      <th></th>\n",
       "      <th></th>\n",
       "      <th></th>\n",
       "    </tr>\n",
       "  </thead>\n",
       "  <tbody>\n",
       "    <tr>\n",
       "      <td>AZ</td>\n",
       "      <td>200358.0</td>\n",
       "      <td>454137.0</td>\n",
       "      <td>14935.0</td>\n",
       "      <td>238571.0</td>\n",
       "      <td>151644.0</td>\n",
       "      <td>161628.0</td>\n",
       "      <td>1048330.0</td>\n",
       "    </tr>\n",
       "    <tr>\n",
       "      <td>BX-E</td>\n",
       "      <td>37725.0</td>\n",
       "      <td>55461.0</td>\n",
       "      <td>3567.0</td>\n",
       "      <td>17608.0</td>\n",
       "      <td>7733.0</td>\n",
       "      <td>6597.0</td>\n",
       "      <td>23269.0</td>\n",
       "    </tr>\n",
       "    <tr>\n",
       "      <td>BX-I</td>\n",
       "      <td>65934.0</td>\n",
       "      <td>96028.0</td>\n",
       "      <td>5944.0</td>\n",
       "      <td>36432.0</td>\n",
       "      <td>15844.0</td>\n",
       "      <td>13133.0</td>\n",
       "      <td>46664.0</td>\n",
       "    </tr>\n",
       "    <tr>\n",
       "      <td>GR-E</td>\n",
       "      <td>143969.0</td>\n",
       "      <td>237262.0</td>\n",
       "      <td>9093.0</td>\n",
       "      <td>86067.0</td>\n",
       "      <td>29328.0</td>\n",
       "      <td>575993.0</td>\n",
       "      <td>NaN</td>\n",
       "    </tr>\n",
       "    <tr>\n",
       "      <td>GR-I</td>\n",
       "      <td>145293.0</td>\n",
       "      <td>240157.0</td>\n",
       "      <td>9183.0</td>\n",
       "      <td>87719.0</td>\n",
       "      <td>30087.0</td>\n",
       "      <td>585145.0</td>\n",
       "      <td>NaN</td>\n",
       "    </tr>\n",
       "    <tr>\n",
       "      <td>LOC-MDS</td>\n",
       "      <td>587449.0</td>\n",
       "      <td>1998004.0</td>\n",
       "      <td>45109.0</td>\n",
       "      <td>1210275.0</td>\n",
       "      <td>294565.0</td>\n",
       "      <td>762676.0</td>\n",
       "      <td>NaN</td>\n",
       "    </tr>\n",
       "  </tbody>\n",
       "</table>\n",
       "</div>"
      ],
      "text/plain": [
       "gender     female       male  ambiguous    unknown  no-viaf-author  \\\n",
       "dataset                                                              \n",
       "AZ       200358.0   454137.0    14935.0   238571.0        151644.0   \n",
       "BX-E      37725.0    55461.0     3567.0    17608.0          7733.0   \n",
       "BX-I      65934.0    96028.0     5944.0    36432.0         15844.0   \n",
       "GR-E     143969.0   237262.0     9093.0    86067.0         29328.0   \n",
       "GR-I     145293.0   240157.0     9183.0    87719.0         30087.0   \n",
       "LOC-MDS  587449.0  1998004.0    45109.0  1210275.0        294565.0   \n",
       "\n",
       "gender   no-loc-author    no-book  \n",
       "dataset                            \n",
       "AZ            161628.0  1048330.0  \n",
       "BX-E            6597.0    23269.0  \n",
       "BX-I           13133.0    46664.0  \n",
       "GR-E          575993.0        NaN  \n",
       "GR-I          585145.0        NaN  \n",
       "LOC-MDS       762676.0        NaN  "
      ]
     },
     "execution_count": 6,
     "metadata": {},
     "output_type": "execute_result"
    }
   ],
   "source": [
    "book_counts = link_stats.pivot(index='dataset', columns='gender', values='n_books')\n",
    "book_counts = book_counts.reindex(columns=link_codes + unlink_codes)\n",
    "book_counts"
   ]
  },
  {
   "cell_type": "code",
   "execution_count": 7,
   "metadata": {},
   "outputs": [
    {
     "data": {
      "text/html": [
       "<div>\n",
       "<style scoped>\n",
       "    .dataframe tbody tr th:only-of-type {\n",
       "        vertical-align: middle;\n",
       "    }\n",
       "\n",
       "    .dataframe tbody tr th {\n",
       "        vertical-align: top;\n",
       "    }\n",
       "\n",
       "    .dataframe thead th {\n",
       "        text-align: right;\n",
       "    }\n",
       "</style>\n",
       "<table border=\"1\" class=\"dataframe\">\n",
       "  <thead>\n",
       "    <tr style=\"text-align: right;\">\n",
       "      <th>gender</th>\n",
       "      <th>female</th>\n",
       "      <th>male</th>\n",
       "      <th>ambiguous</th>\n",
       "      <th>unknown</th>\n",
       "      <th>no-viaf-author</th>\n",
       "      <th>no-loc-author</th>\n",
       "      <th>no-book</th>\n",
       "    </tr>\n",
       "    <tr>\n",
       "      <th>dataset</th>\n",
       "      <th></th>\n",
       "      <th></th>\n",
       "      <th></th>\n",
       "      <th></th>\n",
       "      <th></th>\n",
       "      <th></th>\n",
       "      <th></th>\n",
       "    </tr>\n",
       "  </thead>\n",
       "  <tbody>\n",
       "    <tr>\n",
       "      <td>AZ</td>\n",
       "      <td>3933128.0</td>\n",
       "      <td>6173925.0</td>\n",
       "      <td>449466.0</td>\n",
       "      <td>1977502.0</td>\n",
       "      <td>715198.0</td>\n",
       "      <td>2789674.0</td>\n",
       "      <td>6425383.0</td>\n",
       "    </tr>\n",
       "    <tr>\n",
       "      <td>BX-E</td>\n",
       "      <td>139925.0</td>\n",
       "      <td>185344.0</td>\n",
       "      <td>27700.0</td>\n",
       "      <td>27108.0</td>\n",
       "      <td>9926.0</td>\n",
       "      <td>9732.0</td>\n",
       "      <td>27194.0</td>\n",
       "    </tr>\n",
       "    <tr>\n",
       "      <td>BX-I</td>\n",
       "      <td>394833.0</td>\n",
       "      <td>468797.0</td>\n",
       "      <td>68092.0</td>\n",
       "      <td>77317.0</td>\n",
       "      <td>26774.0</td>\n",
       "      <td>26700.0</td>\n",
       "      <td>66452.0</td>\n",
       "    </tr>\n",
       "    <tr>\n",
       "      <td>GR-E</td>\n",
       "      <td>28464715.0</td>\n",
       "      <td>31304703.0</td>\n",
       "      <td>7307013.0</td>\n",
       "      <td>2670199.0</td>\n",
       "      <td>399775.0</td>\n",
       "      <td>16394093.0</td>\n",
       "      <td>NaN</td>\n",
       "    </tr>\n",
       "    <tr>\n",
       "      <td>GR-I</td>\n",
       "      <td>56774254.0</td>\n",
       "      <td>60951418.0</td>\n",
       "      <td>11554496.0</td>\n",
       "      <td>6665467.0</td>\n",
       "      <td>939429.0</td>\n",
       "      <td>52078951.0</td>\n",
       "      <td>NaN</td>\n",
       "    </tr>\n",
       "  </tbody>\n",
       "</table>\n",
       "</div>"
      ],
      "text/plain": [
       "gender       female        male   ambiguous    unknown  no-viaf-author  \\\n",
       "dataset                                                                  \n",
       "AZ        3933128.0   6173925.0    449466.0  1977502.0        715198.0   \n",
       "BX-E       139925.0    185344.0     27700.0    27108.0          9926.0   \n",
       "BX-I       394833.0    468797.0     68092.0    77317.0         26774.0   \n",
       "GR-E     28464715.0  31304703.0   7307013.0  2670199.0        399775.0   \n",
       "GR-I     56774254.0  60951418.0  11554496.0  6665467.0        939429.0   \n",
       "\n",
       "gender   no-loc-author    no-book  \n",
       "dataset                            \n",
       "AZ           2789674.0  6425383.0  \n",
       "BX-E            9732.0    27194.0  \n",
       "BX-I           26700.0    66452.0  \n",
       "GR-E        16394093.0        NaN  \n",
       "GR-I        52078951.0        NaN  "
      ]
     },
     "execution_count": 7,
     "metadata": {},
     "output_type": "execute_result"
    }
   ],
   "source": [
    "act_counts = link_stats.pivot(index='dataset', columns='gender', values='n_actions')\n",
    "act_counts = act_counts.reindex(columns=link_codes + unlink_codes)\n",
    "act_counts.drop(index='LOC-MDS', inplace=True)\n",
    "act_counts"
   ]
  },
  {
   "cell_type": "markdown",
   "metadata": {},
   "source": [
    "We're going to want to compute versions of this table as fractions, e.g. the fraction of books that are written by women.  We will use the following helper function:"
   ]
  },
  {
   "cell_type": "code",
   "execution_count": 8,
   "metadata": {},
   "outputs": [],
   "source": [
    "def fractionalize(data, columns, unlinked=None):\n",
    "    fracs = data[columns]\n",
    "    if unlinked:\n",
    "        fracs = fracs.assign(unlinked=data[unlinked].sum(axis=1))\n",
    "    totals = fracs.sum(axis=1)\n",
    "    return fracs.divide(totals, axis=0)"
   ]
  },
  {
   "cell_type": "markdown",
   "metadata": {},
   "source": [
    "And a helper function for plotting bar charts:"
   ]
  },
  {
   "cell_type": "code",
   "execution_count": 9,
   "metadata": {},
   "outputs": [],
   "source": [
    "def plot_bars(fracs, ax=None, cmap=mpl.cm.Dark2):\n",
    "    if ax is None:\n",
    "        ax = plt.gca()\n",
    "    size = 0.5\n",
    "    ind = np.arange(len(fracs))\n",
    "    start = pd.Series(0, index=fracs.index)\n",
    "    for i, col in enumerate(fracs.columns):\n",
    "        vals = fracs.iloc[:, i]\n",
    "        rects = ax.barh(ind, vals, size, left=start, label=col, color=cmap(i))\n",
    "        for j, rec in enumerate(rects):\n",
    "            if vals.iloc[j] < 0.1: continue\n",
    "            y = rec.get_y() + rec.get_height() / 2\n",
    "            x = start.iloc[j] + vals.iloc[j] / 2\n",
    "            ax.annotate('{:.1f}%'.format(vals.iloc[j] * 100),\n",
    "                        xy=(x,y), ha='center', va='center', color='white',\n",
    "                        fontweight='bold')\n",
    "        start += vals\n",
    "    ax.set_xlabel('Fraction of Books')\n",
    "    ax.set_ylabel('Data Set')\n",
    "    ax.set_yticks(ind)\n",
    "    ax.set_yticklabels(fracs.index)\n",
    "    ax.legend(loc='center left', bbox_to_anchor=(1, 0.5))"
   ]
  },
  {
   "cell_type": "markdown",
   "metadata": {},
   "source": [
    "## Resolution of Books\n",
    "\n",
    "What fraction of *unique books* are resolved from each source?"
   ]
  },
  {
   "cell_type": "code",
   "execution_count": 10,
   "metadata": {},
   "outputs": [
    {
     "data": {
      "text/html": [
       "<div>\n",
       "<style scoped>\n",
       "    .dataframe tbody tr th:only-of-type {\n",
       "        vertical-align: middle;\n",
       "    }\n",
       "\n",
       "    .dataframe tbody tr th {\n",
       "        vertical-align: top;\n",
       "    }\n",
       "\n",
       "    .dataframe thead th {\n",
       "        text-align: right;\n",
       "    }\n",
       "</style>\n",
       "<table border=\"1\" class=\"dataframe\">\n",
       "  <thead>\n",
       "    <tr style=\"text-align: right;\">\n",
       "      <th>gender</th>\n",
       "      <th>female</th>\n",
       "      <th>male</th>\n",
       "      <th>ambiguous</th>\n",
       "      <th>unknown</th>\n",
       "      <th>no-viaf-author</th>\n",
       "      <th>no-loc-author</th>\n",
       "      <th>no-book</th>\n",
       "    </tr>\n",
       "    <tr>\n",
       "      <th>dataset</th>\n",
       "      <th></th>\n",
       "      <th></th>\n",
       "      <th></th>\n",
       "      <th></th>\n",
       "      <th></th>\n",
       "      <th></th>\n",
       "      <th></th>\n",
       "    </tr>\n",
       "  </thead>\n",
       "  <tbody>\n",
       "    <tr>\n",
       "      <td>AZ</td>\n",
       "      <td>0.088279</td>\n",
       "      <td>0.200095</td>\n",
       "      <td>0.006580</td>\n",
       "      <td>0.105116</td>\n",
       "      <td>0.066815</td>\n",
       "      <td>0.071214</td>\n",
       "      <td>0.461900</td>\n",
       "    </tr>\n",
       "    <tr>\n",
       "      <td>BX-E</td>\n",
       "      <td>0.248256</td>\n",
       "      <td>0.364971</td>\n",
       "      <td>0.023473</td>\n",
       "      <td>0.115873</td>\n",
       "      <td>0.050888</td>\n",
       "      <td>0.043413</td>\n",
       "      <td>0.153126</td>\n",
       "    </tr>\n",
       "    <tr>\n",
       "      <td>BX-I</td>\n",
       "      <td>0.235496</td>\n",
       "      <td>0.342983</td>\n",
       "      <td>0.021230</td>\n",
       "      <td>0.130124</td>\n",
       "      <td>0.056590</td>\n",
       "      <td>0.046907</td>\n",
       "      <td>0.166670</td>\n",
       "    </tr>\n",
       "    <tr>\n",
       "      <td>GR-E</td>\n",
       "      <td>0.133094</td>\n",
       "      <td>0.219339</td>\n",
       "      <td>0.008406</td>\n",
       "      <td>0.079566</td>\n",
       "      <td>0.027113</td>\n",
       "      <td>0.532483</td>\n",
       "      <td>NaN</td>\n",
       "    </tr>\n",
       "    <tr>\n",
       "      <td>GR-I</td>\n",
       "      <td>0.132375</td>\n",
       "      <td>0.218805</td>\n",
       "      <td>0.008367</td>\n",
       "      <td>0.079920</td>\n",
       "      <td>0.027412</td>\n",
       "      <td>0.533121</td>\n",
       "      <td>NaN</td>\n",
       "    </tr>\n",
       "    <tr>\n",
       "      <td>LOC-MDS</td>\n",
       "      <td>0.119935</td>\n",
       "      <td>0.407916</td>\n",
       "      <td>0.009210</td>\n",
       "      <td>0.247092</td>\n",
       "      <td>0.060139</td>\n",
       "      <td>0.155709</td>\n",
       "      <td>NaN</td>\n",
       "    </tr>\n",
       "  </tbody>\n",
       "</table>\n",
       "</div>"
      ],
      "text/plain": [
       "gender     female      male  ambiguous   unknown  no-viaf-author  \\\n",
       "dataset                                                            \n",
       "AZ       0.088279  0.200095   0.006580  0.105116        0.066815   \n",
       "BX-E     0.248256  0.364971   0.023473  0.115873        0.050888   \n",
       "BX-I     0.235496  0.342983   0.021230  0.130124        0.056590   \n",
       "GR-E     0.133094  0.219339   0.008406  0.079566        0.027113   \n",
       "GR-I     0.132375  0.218805   0.008367  0.079920        0.027412   \n",
       "LOC-MDS  0.119935  0.407916   0.009210  0.247092        0.060139   \n",
       "\n",
       "gender   no-loc-author   no-book  \n",
       "dataset                           \n",
       "AZ            0.071214  0.461900  \n",
       "BX-E          0.043413  0.153126  \n",
       "BX-I          0.046907  0.166670  \n",
       "GR-E          0.532483       NaN  \n",
       "GR-I          0.533121       NaN  \n",
       "LOC-MDS       0.155709       NaN  "
      ]
     },
     "execution_count": 10,
     "metadata": {},
     "output_type": "execute_result"
    }
   ],
   "source": [
    "fractionalize(book_counts, link_codes + unlink_codes)"
   ]
  },
  {
   "cell_type": "code",
   "execution_count": 11,
   "metadata": {},
   "outputs": [
    {
     "data": {
      "image/png": "[encoded data removed]",
      "text/plain": [
       "<Figure size 432x288 with 1 Axes>"
      ]
     },
     "metadata": {
      "needs_background": "light"
     },
     "output_type": "display_data"
    }
   ],
   "source": [
    "plot_bars(fractionalize(book_counts, link_codes + unlink_codes))"
   ]
  },
  {
   "cell_type": "code",
   "execution_count": 12,
   "metadata": {},
   "outputs": [
    {
     "data": {
      "text/html": [
       "<div>\n",
       "<style scoped>\n",
       "    .dataframe tbody tr th:only-of-type {\n",
       "        vertical-align: middle;\n",
       "    }\n",
       "\n",
       "    .dataframe tbody tr th {\n",
       "        vertical-align: top;\n",
       "    }\n",
       "\n",
       "    .dataframe thead th {\n",
       "        text-align: right;\n",
       "    }\n",
       "</style>\n",
       "<table border=\"1\" class=\"dataframe\">\n",
       "  <thead>\n",
       "    <tr style=\"text-align: right;\">\n",
       "      <th>gender</th>\n",
       "      <th>female</th>\n",
       "      <th>male</th>\n",
       "      <th>ambiguous</th>\n",
       "      <th>unknown</th>\n",
       "      <th>unlinked</th>\n",
       "    </tr>\n",
       "    <tr>\n",
       "      <th>dataset</th>\n",
       "      <th></th>\n",
       "      <th></th>\n",
       "      <th></th>\n",
       "      <th></th>\n",
       "      <th></th>\n",
       "    </tr>\n",
       "  </thead>\n",
       "  <tbody>\n",
       "    <tr>\n",
       "      <td>AZ</td>\n",
       "      <td>0.088279</td>\n",
       "      <td>0.200095</td>\n",
       "      <td>0.006580</td>\n",
       "      <td>0.105116</td>\n",
       "      <td>0.599930</td>\n",
       "    </tr>\n",
       "    <tr>\n",
       "      <td>BX-E</td>\n",
       "      <td>0.248256</td>\n",
       "      <td>0.364971</td>\n",
       "      <td>0.023473</td>\n",
       "      <td>0.115873</td>\n",
       "      <td>0.247427</td>\n",
       "    </tr>\n",
       "    <tr>\n",
       "      <td>BX-I</td>\n",
       "      <td>0.235496</td>\n",
       "      <td>0.342983</td>\n",
       "      <td>0.021230</td>\n",
       "      <td>0.130124</td>\n",
       "      <td>0.270167</td>\n",
       "    </tr>\n",
       "    <tr>\n",
       "      <td>GR-E</td>\n",
       "      <td>0.133094</td>\n",
       "      <td>0.219339</td>\n",
       "      <td>0.008406</td>\n",
       "      <td>0.079566</td>\n",
       "      <td>0.559595</td>\n",
       "    </tr>\n",
       "    <tr>\n",
       "      <td>GR-I</td>\n",
       "      <td>0.132375</td>\n",
       "      <td>0.218805</td>\n",
       "      <td>0.008367</td>\n",
       "      <td>0.079920</td>\n",
       "      <td>0.560533</td>\n",
       "    </tr>\n",
       "    <tr>\n",
       "      <td>LOC-MDS</td>\n",
       "      <td>0.119935</td>\n",
       "      <td>0.407916</td>\n",
       "      <td>0.009210</td>\n",
       "      <td>0.247092</td>\n",
       "      <td>0.215848</td>\n",
       "    </tr>\n",
       "  </tbody>\n",
       "</table>\n",
       "</div>"
      ],
      "text/plain": [
       "gender     female      male  ambiguous   unknown  unlinked\n",
       "dataset                                                   \n",
       "AZ       0.088279  0.200095   0.006580  0.105116  0.599930\n",
       "BX-E     0.248256  0.364971   0.023473  0.115873  0.247427\n",
       "BX-I     0.235496  0.342983   0.021230  0.130124  0.270167\n",
       "GR-E     0.133094  0.219339   0.008406  0.079566  0.559595\n",
       "GR-I     0.132375  0.218805   0.008367  0.079920  0.560533\n",
       "LOC-MDS  0.119935  0.407916   0.009210  0.247092  0.215848"
      ]
     },
     "execution_count": 12,
     "metadata": {},
     "output_type": "execute_result"
    }
   ],
   "source": [
    "fractionalize(book_counts, link_codes, unlink_codes)"
   ]
  },
  {
   "cell_type": "code",
   "execution_count": 13,
   "metadata": {},
   "outputs": [
    {
     "data": {
      "image/png": "[encoded data removed]",
      "text/plain": [
       "<Figure size 432x288 with 1 Axes>"
      ]
     },
     "metadata": {
      "needs_background": "light"
     },
     "output_type": "display_data"
    }
   ],
   "source": [
    "plot_bars(fractionalize(book_counts, link_codes, unlink_codes))"
   ]
  },
  {
   "cell_type": "code",
   "execution_count": 14,
   "metadata": {},
   "outputs": [
    {
     "data": {
      "image/png": "[encoded data removed]",
      "text/plain": [
       "<Figure size 432x288 with 1 Axes>"
      ]
     },
     "metadata": {
      "needs_background": "light"
     },
     "output_type": "display_data"
    }
   ],
   "source": [
    "plot_bars(fractionalize(book_counts, ['female', 'male']))"
   ]
  },
  {
   "cell_type": "markdown",
   "metadata": {},
   "source": [
    "## Resolution of Ratings\n",
    "\n",
    "What fraction of *rating actions* have each resolution result?"
   ]
  },
  {
   "cell_type": "code",
   "execution_count": 15,
   "metadata": {},
   "outputs": [
    {
     "data": {
      "text/html": [
       "<div>\n",
       "<style scoped>\n",
       "    .dataframe tbody tr th:only-of-type {\n",
       "        vertical-align: middle;\n",
       "    }\n",
       "\n",
       "    .dataframe tbody tr th {\n",
       "        vertical-align: top;\n",
       "    }\n",
       "\n",
       "    .dataframe thead th {\n",
       "        text-align: right;\n",
       "    }\n",
       "</style>\n",
       "<table border=\"1\" class=\"dataframe\">\n",
       "  <thead>\n",
       "    <tr style=\"text-align: right;\">\n",
       "      <th>gender</th>\n",
       "      <th>female</th>\n",
       "      <th>male</th>\n",
       "      <th>ambiguous</th>\n",
       "      <th>unknown</th>\n",
       "      <th>no-viaf-author</th>\n",
       "      <th>no-loc-author</th>\n",
       "      <th>no-book</th>\n",
       "    </tr>\n",
       "    <tr>\n",
       "      <th>dataset</th>\n",
       "      <th></th>\n",
       "      <th></th>\n",
       "      <th></th>\n",
       "      <th></th>\n",
       "      <th></th>\n",
       "      <th></th>\n",
       "      <th></th>\n",
       "    </tr>\n",
       "  </thead>\n",
       "  <tbody>\n",
       "    <tr>\n",
       "      <td>AZ</td>\n",
       "      <td>0.175084</td>\n",
       "      <td>0.274833</td>\n",
       "      <td>0.020008</td>\n",
       "      <td>0.088029</td>\n",
       "      <td>0.031837</td>\n",
       "      <td>0.124183</td>\n",
       "      <td>0.286027</td>\n",
       "    </tr>\n",
       "    <tr>\n",
       "      <td>BX-E</td>\n",
       "      <td>0.327748</td>\n",
       "      <td>0.434133</td>\n",
       "      <td>0.064882</td>\n",
       "      <td>0.063495</td>\n",
       "      <td>0.023250</td>\n",
       "      <td>0.022795</td>\n",
       "      <td>0.063697</td>\n",
       "    </tr>\n",
       "    <tr>\n",
       "      <td>BX-I</td>\n",
       "      <td>0.349730</td>\n",
       "      <td>0.415245</td>\n",
       "      <td>0.060314</td>\n",
       "      <td>0.068485</td>\n",
       "      <td>0.023716</td>\n",
       "      <td>0.023650</td>\n",
       "      <td>0.058861</td>\n",
       "    </tr>\n",
       "    <tr>\n",
       "      <td>GR-E</td>\n",
       "      <td>0.328918</td>\n",
       "      <td>0.361735</td>\n",
       "      <td>0.084435</td>\n",
       "      <td>0.030855</td>\n",
       "      <td>0.004620</td>\n",
       "      <td>0.189438</td>\n",
       "      <td>NaN</td>\n",
       "    </tr>\n",
       "    <tr>\n",
       "      <td>GR-I</td>\n",
       "      <td>0.300450</td>\n",
       "      <td>0.322556</td>\n",
       "      <td>0.061147</td>\n",
       "      <td>0.035274</td>\n",
       "      <td>0.004971</td>\n",
       "      <td>0.275602</td>\n",
       "      <td>NaN</td>\n",
       "    </tr>\n",
       "  </tbody>\n",
       "</table>\n",
       "</div>"
      ],
      "text/plain": [
       "gender     female      male  ambiguous   unknown  no-viaf-author  \\\n",
       "dataset                                                            \n",
       "AZ       0.175084  0.274833   0.020008  0.088029        0.031837   \n",
       "BX-E     0.327748  0.434133   0.064882  0.063495        0.023250   \n",
       "BX-I     0.349730  0.415245   0.060314  0.068485        0.023716   \n",
       "GR-E     0.328918  0.361735   0.084435  0.030855        0.004620   \n",
       "GR-I     0.300450  0.322556   0.061147  0.035274        0.004971   \n",
       "\n",
       "gender   no-loc-author   no-book  \n",
       "dataset                           \n",
       "AZ            0.124183  0.286027  \n",
       "BX-E          0.022795  0.063697  \n",
       "BX-I          0.023650  0.058861  \n",
       "GR-E          0.189438       NaN  \n",
       "GR-I          0.275602       NaN  "
      ]
     },
     "execution_count": 15,
     "metadata": {},
     "output_type": "execute_result"
    }
   ],
   "source": [
    "fractionalize(act_counts, link_codes + unlink_codes)"
   ]
  },
  {
   "cell_type": "code",
   "execution_count": 16,
   "metadata": {},
   "outputs": [
    {
     "data": {
      "image/png": "[encoded data removed]",
      "text/plain": [
       "<Figure size 432x288 with 1 Axes>"
      ]
     },
     "metadata": {
      "needs_background": "light"
     },
     "output_type": "display_data"
    }
   ],
   "source": [
    "plot_bars(fractionalize(act_counts, link_codes + unlink_codes))"
   ]
  },
  {
   "cell_type": "code",
   "execution_count": 17,
   "metadata": {},
   "outputs": [
    {
     "data": {
      "text/html": [
       "<div>\n",
       "<style scoped>\n",
       "    .dataframe tbody tr th:only-of-type {\n",
       "        vertical-align: middle;\n",
       "    }\n",
       "\n",
       "    .dataframe tbody tr th {\n",
       "        vertical-align: top;\n",
       "    }\n",
       "\n",
       "    .dataframe thead th {\n",
       "        text-align: right;\n",
       "    }\n",
       "</style>\n",
       "<table border=\"1\" class=\"dataframe\">\n",
       "  <thead>\n",
       "    <tr style=\"text-align: right;\">\n",
       "      <th>gender</th>\n",
       "      <th>female</th>\n",
       "      <th>male</th>\n",
       "      <th>ambiguous</th>\n",
       "      <th>unknown</th>\n",
       "      <th>unlinked</th>\n",
       "    </tr>\n",
       "    <tr>\n",
       "      <th>dataset</th>\n",
       "      <th></th>\n",
       "      <th></th>\n",
       "      <th></th>\n",
       "      <th></th>\n",
       "      <th></th>\n",
       "    </tr>\n",
       "  </thead>\n",
       "  <tbody>\n",
       "    <tr>\n",
       "      <td>AZ</td>\n",
       "      <td>0.175084</td>\n",
       "      <td>0.274833</td>\n",
       "      <td>0.020008</td>\n",
       "      <td>0.088029</td>\n",
       "      <td>0.442047</td>\n",
       "    </tr>\n",
       "    <tr>\n",
       "      <td>BX-E</td>\n",
       "      <td>0.327748</td>\n",
       "      <td>0.434133</td>\n",
       "      <td>0.064882</td>\n",
       "      <td>0.063495</td>\n",
       "      <td>0.109742</td>\n",
       "    </tr>\n",
       "    <tr>\n",
       "      <td>BX-I</td>\n",
       "      <td>0.349730</td>\n",
       "      <td>0.415245</td>\n",
       "      <td>0.060314</td>\n",
       "      <td>0.068485</td>\n",
       "      <td>0.106226</td>\n",
       "    </tr>\n",
       "    <tr>\n",
       "      <td>GR-E</td>\n",
       "      <td>0.328918</td>\n",
       "      <td>0.361735</td>\n",
       "      <td>0.084435</td>\n",
       "      <td>0.030855</td>\n",
       "      <td>0.194058</td>\n",
       "    </tr>\n",
       "    <tr>\n",
       "      <td>GR-I</td>\n",
       "      <td>0.300450</td>\n",
       "      <td>0.322556</td>\n",
       "      <td>0.061147</td>\n",
       "      <td>0.035274</td>\n",
       "      <td>0.280574</td>\n",
       "    </tr>\n",
       "  </tbody>\n",
       "</table>\n",
       "</div>"
      ],
      "text/plain": [
       "gender     female      male  ambiguous   unknown  unlinked\n",
       "dataset                                                   \n",
       "AZ       0.175084  0.274833   0.020008  0.088029  0.442047\n",
       "BX-E     0.327748  0.434133   0.064882  0.063495  0.109742\n",
       "BX-I     0.349730  0.415245   0.060314  0.068485  0.106226\n",
       "GR-E     0.328918  0.361735   0.084435  0.030855  0.194058\n",
       "GR-I     0.300450  0.322556   0.061147  0.035274  0.280574"
      ]
     },
     "execution_count": 17,
     "metadata": {},
     "output_type": "execute_result"
    }
   ],
   "source": [
    "fractionalize(act_counts, link_codes, unlink_codes)"
   ]
  },
  {
   "cell_type": "code",
   "execution_count": 18,
   "metadata": {},
   "outputs": [
    {
     "data": {
      "image/png": "[encoded data removed]",
      "text/plain": [
       "<Figure size 432x288 with 1 Axes>"
      ]
     },
     "metadata": {
      "needs_background": "light"
     },
     "output_type": "display_data"
    }
   ],
   "source": [
    "plot_bars(fractionalize(act_counts, link_codes, unlink_codes))"
   ]
  },
  {
   "cell_type": "code",
   "execution_count": 19,
   "metadata": {},
   "outputs": [
    {
     "data": {
      "image/png": "[encoded data removed]",
      "text/plain": [
       "<Figure size 432x288 with 1 Axes>"
      ]
     },
     "metadata": {
      "needs_background": "light"
     },
     "output_type": "display_data"
    }
   ],
   "source": [
    "plot_bars(fractionalize(act_counts, ['female', 'male']))"
   ]
  },
  {
   "cell_type": "code",
   "execution_count": null,
   "metadata": {},
   "outputs": [],
   "source": []
  }
 ],
 "metadata": {
  "kernelspec": {
   "display_name": "Python 3",
   "language": "python",
   "name": "python3"
  },
  "language_info": {
   "codemirror_mode": {
    "name": "ipython",
    "version": 3
   },
   "file_extension": ".py",
   "mimetype": "text/x-python",
   "name": "python",
   "nbconvert_exporter": "python",
   "pygments_lexer": "ipython3",
   "version": "3.7.4"
  }
 },
 "nbformat": 4,
 "nbformat_minor": 2
}
