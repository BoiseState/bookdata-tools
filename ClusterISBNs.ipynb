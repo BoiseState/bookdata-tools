{
 "cells": [
  {
   "cell_type": "markdown",
   "metadata": {},
   "source": [
    "# ISBN Clustering"
   ]
  },
  {
   "cell_type": "code",
   "execution_count": 1,
   "metadata": {},
   "outputs": [
    {
     "name": "stderr",
     "output_type": "stream",
     "text": [
      "── Attaching packages ─────────────────────────────────────── tidyverse 1.2.1 ──\n",
      "✔ ggplot2 2.2.1     ✔ purrr   0.2.4\n",
      "✔ tibble  1.4.1     ✔ dplyr   0.7.4\n",
      "✔ tidyr   0.7.2     ✔ stringr 1.2.0\n",
      "✔ readr   1.1.1     ✔ forcats 0.2.0\n",
      "── Conflicts ────────────────────────────────────────── tidyverse_conflicts() ──\n",
      "✖ dplyr::between()   masks data.table::between()\n",
      "✖ dplyr::filter()    masks stats::filter()\n",
      "✖ dplyr::first()     masks data.table::first()\n",
      "✖ dplyr::lag()       masks stats::lag()\n",
      "✖ dplyr::last()      masks data.table::last()\n",
      "✖ purrr::transpose() masks data.table::transpose()\n"
     ]
    }
   ],
   "source": [
    "library(data.table)\n",
    "library(tidyverse)"
   ]
  },
  {
   "cell_type": "code",
   "execution_count": 2,
   "metadata": {},
   "outputs": [],
   "source": [
    "options(repr.plot.height=5)"
   ]
  },
  {
   "cell_type": "code",
   "execution_count": 147,
   "metadata": {},
   "outputs": [],
   "source": [
    "Rcpp::sourceCpp(\"isbn.cpp\")"
   ]
  },
  {
   "cell_type": "code",
   "execution_count": 3,
   "metadata": {},
   "outputs": [],
   "source": [
    "db = DBI::dbConnect(RPostgreSQL::PostgreSQL(), dbname='openlib')"
   ]
  },
  {
   "cell_type": "markdown",
   "metadata": {},
   "source": [
    "## Clustering Algorithm"
   ]
  },
  {
   "cell_type": "markdown",
   "metadata": {},
   "source": [
    "We cluster ISBNs by taking the bipartite graph of ISBNs and records, and computing the closure for each ISBN.  Each closure becomes a cluster with a single ‘book’ ID."
   ]
  },
  {
   "cell_type": "code",
   "execution_count": 35,
   "metadata": {},
   "outputs": [],
   "source": [
    "Rcpp::sourceCpp(\"cluster.cpp\")\n",
    "cluster_isbns = function(isbn_rec_tbl) {\n",
    "    message(\"initializing clusters\")\n",
    "    clusters = isbn_rec_tbl %>% group_by(isbn) %>% summarize(cluster=min(record)) %>% ungroup() %>%\n",
    "        mutate(cluster = as.integer(cluster))\n",
    "    message(\"populating edges\")\n",
    "    edges = isbn_rec_tbl %>%\n",
    "        rename(left_isbn = isbn) %>%\n",
    "        inner_join(isbn_rec_tbl %>% rename(right_isbn = isbn)) %>%\n",
    "        select(left_isbn, right_isbn) %>%\n",
    "        distinct()\n",
    "    message(\"clustering \", nrow(clusters), \" isbns with \", nrow(edges), \" edges\")\n",
    "    c2 = compute_clusters(clusters, edges)\n",
    "    message(\"built \", length(unique(c2$cluster)), \" clusters\")\n",
    "    c2\n",
    "}"
   ]
  },
  {
   "cell_type": "markdown",
   "metadata": {},
   "source": [
    "## Library of Congress"
   ]
  },
  {
   "cell_type": "code",
   "execution_count": 36,
   "metadata": {},
   "outputs": [
    {
     "name": "stdout",
     "output_type": "stream",
     "text": [
      "# A tibble: 6,600,638 x 2\n",
      "   isbn        rec_id\n",
      " * <chr>        <int>\n",
      " 1 0687132924 2784948\n",
      " 2 8473512243 2784949\n",
      " 3 9682301084 2784951\n",
      " 4 0316493953 2784970\n",
      " 5 0202301575 2784977\n",
      " 6 0912832177 2784985\n",
      " 7 0675093686 2784988\n",
      " 8 9686021086 2785001\n",
      " 9 0716501864 2785015\n",
      "10 0871622092 2785038\n",
      "# ... with 6,600,628 more rows\n"
     ]
    }
   ],
   "source": [
    "loc_rec_isbns = db %>% tbl('loc_isbn') %>% select(isbn, rec_id) %>% collect()\n",
    "print(loc_rec_isbns)"
   ]
  },
  {
   "cell_type": "code",
   "execution_count": 37,
   "metadata": {},
   "outputs": [
    {
     "name": "stdout",
     "output_type": "stream",
     "text": [
      "# A tibble: 6,524,465 x 2\n",
      "   isbn          id\n",
      "   <chr>      <int>\n",
      " 1 0687132924     1\n",
      " 2 8473512243     2\n",
      " 3 9682301084     3\n",
      " 4 0316493953     4\n",
      " 5 0202301575     5\n",
      " 6 0912832177     6\n",
      " 7 0675093686     7\n",
      " 8 9686021086     8\n",
      " 9 0716501864     9\n",
      "10 0871622092    10\n",
      "# ... with 6,524,455 more rows\n"
     ]
    }
   ],
   "source": [
    "loc_isbn_ids = loc_rec_isbns %>% select(isbn) %>% distinct() %>% mutate(id=1:n())\n",
    "print(loc_isbn_ids)"
   ]
  },
  {
   "cell_type": "code",
   "execution_count": 38,
   "metadata": {},
   "outputs": [
    {
     "name": "stderr",
     "output_type": "stream",
     "text": [
      "Joining, by = \"isbn\"\n"
     ]
    },
    {
     "name": "stdout",
     "output_type": "stream",
     "text": [
      "# A tibble: 6,600,638 x 2\n",
      "    isbn  record\n",
      "   <int>   <int>\n",
      " 1     1 2784948\n",
      " 2     2 2784949\n",
      " 3     3 2784951\n",
      " 4     4 2784970\n",
      " 5     5 2784977\n",
      " 6     6 2784985\n",
      " 7     7 2784988\n",
      " 8     8 2785001\n",
      " 9     9 2785015\n",
      "10    10 2785038\n",
      "# ... with 6,600,628 more rows\n"
     ]
    }
   ],
   "source": [
    "loc_rec_edges = loc_rec_isbns %>% inner_join(loc_isbn_ids) %>% select(isbn=id, record=rec_id)\n",
    "print(loc_rec_edges)"
   ]
  },
  {
   "cell_type": "code",
   "execution_count": 39,
   "metadata": {},
   "outputs": [
    {
     "name": "stderr",
     "output_type": "stream",
     "text": [
      "initializing clusters\n",
      "populating edges\n",
      "Joining, by = \"record\"\n",
      "clustering 6524465 isbns with 10491947 edges\n",
      "[    0.00] starting iteration 1\n",
      "[    0.35] iteration 1 changed 23967 memberships\n",
      "[    0.36] starting iteration 2\n",
      "[    0.70] iteration 2 changed 371 memberships\n",
      "[    0.71] starting iteration 3\n",
      "[    1.06] iteration 3 changed 2 memberships\n",
      "[    1.07] starting iteration 4\n",
      "[    1.42] iteration 4 changed 0 memberships\n",
      "built 5186987 clusters\n"
     ]
    }
   ],
   "source": [
    "loc_clusters = cluster_isbns(loc_rec_edges)"
   ]
  },
  {
   "cell_type": "markdown",
   "metadata": {},
   "source": [
    "How big are our largest clusters?"
   ]
  },
  {
   "cell_type": "code",
   "execution_count": 40,
   "metadata": {},
   "outputs": [
    {
     "data": {
      "text/html": [
       "<table>\n",
       "<thead><tr><th scope=col>cluster</th><th scope=col>nisbns</th></tr></thead>\n",
       "<tbody>\n",
       "\t<tr><td>9927813</td><td>162    </td></tr>\n",
       "\t<tr><td>  44464</td><td>129    </td></tr>\n",
       "\t<tr><td>7451086</td><td>123    </td></tr>\n",
       "\t<tr><td>2577188</td><td>116    </td></tr>\n",
       "\t<tr><td>6446243</td><td> 98    </td></tr>\n",
       "\t<tr><td>7394785</td><td> 84    </td></tr>\n",
       "</tbody>\n",
       "</table>\n"
      ],
      "text/latex": [
       "\\begin{tabular}{r|ll}\n",
       " cluster & nisbns\\\\\n",
       "\\hline\n",
       "\t 9927813 & 162    \\\\\n",
       "\t   44464 & 129    \\\\\n",
       "\t 7451086 & 123    \\\\\n",
       "\t 2577188 & 116    \\\\\n",
       "\t 6446243 &  98    \\\\\n",
       "\t 7394785 &  84    \\\\\n",
       "\\end{tabular}\n"
      ],
      "text/markdown": [
       "\n",
       "cluster | nisbns | \n",
       "|---|---|---|---|---|---|\n",
       "| 9927813 | 162     | \n",
       "|   44464 | 129     | \n",
       "| 7451086 | 123     | \n",
       "| 2577188 | 116     | \n",
       "| 6446243 |  98     | \n",
       "| 7394785 |  84     | \n",
       "\n",
       "\n"
      ],
      "text/plain": [
       "  cluster nisbns\n",
       "1 9927813 162   \n",
       "2   44464 129   \n",
       "3 7451086 123   \n",
       "4 2577188 116   \n",
       "5 6446243  98   \n",
       "6 7394785  84   "
      ]
     },
     "metadata": {},
     "output_type": "display_data"
    }
   ],
   "source": [
    "cluster_sizes = loc_clusters %>% group_by(cluster) %>% summarize(nisbns=n()) %>% ungroup() \n",
    "cluster_sizes %>% arrange(-nisbns) %>% head()"
   ]
  },
  {
   "cell_type": "code",
   "execution_count": 87,
   "metadata": {},
   "outputs": [
    {
     "data": {},
     "metadata": {},
     "output_type": "display_data"
    },
    {
     "data": {
      "image/png": "[encoded data removed]",
      "text/plain": [
       "plot without title"
      ]
     },
     "metadata": {},
     "output_type": "display_data",
     "source": "R display func"
    }
   ],
   "source": [
    "ggplot(cluster_sizes) +\n",
    "    aes(x=nisbns) +\n",
    "    geom_histogram(binwidth=1)"
   ]
  },
  {
   "cell_type": "code",
   "execution_count": 41,
   "metadata": {},
   "outputs": [
    {
     "name": "stderr",
     "output_type": "stream",
     "text": [
      "Joining, by = \"id\"\n"
     ]
    }
   ],
   "source": [
    "loc_clusters %>% rename(id=isbn) %>% inner_join(loc_isbn_ids) %>% select(isbn, cluster) %>%\n",
    "    copy_to(db, ., name='loc_isbn_cluster', overwrite=TRUE, temporary=FALSE,\n",
    "            unique_indexes=list(\"isbn\"), indexes=list(\"cluster\"))"
   ]
  },
  {
   "cell_type": "markdown",
   "metadata": {},
   "source": [
    "## OpenLibrary"
   ]
  },
  {
   "cell_type": "code",
   "execution_count": 42,
   "metadata": {},
   "outputs": [],
   "source": [
    "ol_rec_edges = db %>% tbl('ol_isbn_link') %>% select(isbn=isbn_id, record=book_code) %>% \n",
    "    collect()"
   ]
  },
  {
   "cell_type": "code",
   "execution_count": 43,
   "metadata": {},
   "outputs": [
    {
     "name": "stdout",
     "output_type": "stream",
     "text": [
      "# A tibble: 21,062,688 x 2\n",
      "       isbn    record\n",
      " *    <int>     <int>\n",
      " 1  1503099 105437266\n",
      " 2  2659462 105437266\n",
      " 3  5372388 112604572\n",
      " 4 12702878 112604572\n",
      " 5  2276794 102386629\n",
      " 6  4327917 102386629\n",
      " 7 15824799 105798955\n",
      " 8 12504108 102066511\n",
      " 9  8742366 102066511\n",
      "10 10151017 110581121\n",
      "# ... with 21,062,678 more rows\n"
     ]
    }
   ],
   "source": [
    "print(ol_rec_edges)"
   ]
  },
  {
   "cell_type": "code",
   "execution_count": 44,
   "metadata": {},
   "outputs": [
    {
     "name": "stderr",
     "output_type": "stream",
     "text": [
      "initializing clusters\n",
      "populating edges\n",
      "Joining, by = \"record\"\n",
      "clustering 18404050 isbns with 205979114 edges\n",
      "[    0.00] starting iteration 1\n",
      "[   24.46] iteration 1 changed 1195345 memberships\n",
      "[   24.47] starting iteration 2\n",
      "[   48.12] iteration 2 changed 63128 memberships\n",
      "[   48.13] starting iteration 3\n",
      "[   72.33] iteration 3 changed 8505 memberships\n",
      "[   72.34] starting iteration 4\n",
      "[   96.09] iteration 4 changed 1428 memberships\n",
      "[   96.10] starting iteration 5\n",
      "[  120.21] iteration 5 changed 81 memberships\n",
      "[  120.21] starting iteration 6\n",
      "[  144.08] iteration 6 changed 12 memberships\n",
      "[  144.09] starting iteration 7\n",
      "[  168.12] iteration 7 changed 0 memberships\n",
      "built 9829550 clusters\n"
     ]
    }
   ],
   "source": [
    "ol_clusters = cluster_isbns(ol_rec_edges)"
   ]
  },
  {
   "cell_type": "code",
   "execution_count": 45,
   "metadata": {},
   "outputs": [
    {
     "data": {
      "text/html": [
       "<table>\n",
       "<thead><tr><th scope=col>cluster</th><th scope=col>nisbns</th></tr></thead>\n",
       "<tbody>\n",
       "\t<tr><td>105077683</td><td>7520     </td></tr>\n",
       "\t<tr><td>100339351</td><td>6518     </td></tr>\n",
       "\t<tr><td>100004153</td><td>5178     </td></tr>\n",
       "\t<tr><td>107956464</td><td>4276     </td></tr>\n",
       "\t<tr><td>106611855</td><td>2820     </td></tr>\n",
       "\t<tr><td>100058368</td><td>2111     </td></tr>\n",
       "</tbody>\n",
       "</table>\n"
      ],
      "text/latex": [
       "\\begin{tabular}{r|ll}\n",
       " cluster & nisbns\\\\\n",
       "\\hline\n",
       "\t 105077683 & 7520     \\\\\n",
       "\t 100339351 & 6518     \\\\\n",
       "\t 100004153 & 5178     \\\\\n",
       "\t 107956464 & 4276     \\\\\n",
       "\t 106611855 & 2820     \\\\\n",
       "\t 100058368 & 2111     \\\\\n",
       "\\end{tabular}\n"
      ],
      "text/markdown": [
       "\n",
       "cluster | nisbns | \n",
       "|---|---|---|---|---|---|\n",
       "| 105077683 | 7520      | \n",
       "| 100339351 | 6518      | \n",
       "| 100004153 | 5178      | \n",
       "| 107956464 | 4276      | \n",
       "| 106611855 | 2820      | \n",
       "| 100058368 | 2111      | \n",
       "\n",
       "\n"
      ],
      "text/plain": [
       "  cluster   nisbns\n",
       "1 105077683 7520  \n",
       "2 100339351 6518  \n",
       "3 100004153 5178  \n",
       "4 107956464 4276  \n",
       "5 106611855 2820  \n",
       "6 100058368 2111  "
      ]
     },
     "metadata": {},
     "output_type": "display_data"
    }
   ],
   "source": [
    "ol_cluster_sizes = ol_clusters %>% group_by(cluster) %>% summarize(nisbns=n()) %>% ungroup() \n",
    "ol_cluster_sizes %>% arrange(-nisbns) %>% head()"
   ]
  },
  {
   "cell_type": "code",
   "execution_count": 46,
   "metadata": {},
   "outputs": [
    {
     "data": {},
     "metadata": {},
     "output_type": "display_data"
    },
    {
     "data": {
      "image/png": "[encoded data removed]",
      "text/plain": [
       "plot without title"
      ]
     },
     "metadata": {},
     "output_type": "display_data",
     "source": "R display func"
    }
   ],
   "source": [
    "ggplot(ol_cluster_sizes) +\n",
    "    aes(x=nisbns) +\n",
    "    geom_histogram(binwidth=1)"
   ]
  },
  {
   "cell_type": "code",
   "execution_count": 53,
   "metadata": {},
   "outputs": [
    {
     "data": {
      "text/html": [
       "<table>\n",
       "<thead><tr><th scope=col>bucket</th><th scope=col>n</th></tr></thead>\n",
       "<tbody>\n",
       "\t<tr><td>0      </td><td>5889835</td></tr>\n",
       "\t<tr><td>1      </td><td>  49021</td></tr>\n",
       "\t<tr><td>2      </td><td>    397</td></tr>\n",
       "\t<tr><td>3      </td><td>     12</td></tr>\n",
       "</tbody>\n",
       "</table>\n"
      ],
      "text/latex": [
       "\\begin{tabular}{r|ll}\n",
       " bucket & n\\\\\n",
       "\\hline\n",
       "\t 0       & 5889835\\\\\n",
       "\t 1       &   49021\\\\\n",
       "\t 2       &     397\\\\\n",
       "\t 3       &      12\\\\\n",
       "\\end{tabular}\n"
      ],
      "text/markdown": [
       "\n",
       "bucket | n | \n",
       "|---|---|---|---|\n",
       "| 0       | 5889835 | \n",
       "| 1       |   49021 | \n",
       "| 2       |     397 | \n",
       "| 3       |      12 | \n",
       "\n",
       "\n"
      ],
      "text/plain": [
       "  bucket n      \n",
       "1 0      5889835\n",
       "2 1        49021\n",
       "3 2          397\n",
       "4 3           12"
      ]
     },
     "metadata": {},
     "output_type": "display_data"
    }
   ],
   "source": [
    "ol_cluster_sizes = ol_cluster_sizes %>% mutate(bucket = as.integer(log10(nisbns)))\n",
    "ol_cluster_buckets = ol_cluster_sizes %>% filter(nisbns > 1) %>% group_by(bucket) %>% summarize(n=n())\n",
    "ol_cluster_buckets"
   ]
  },
  {
   "cell_type": "code",
   "execution_count": 54,
   "metadata": {},
   "outputs": [
    {
     "data": {},
     "metadata": {},
     "output_type": "display_data"
    },
    {
     "data": {
      "image/png": "[encoded data removed]",
      "text/plain": [
       "plot without title"
      ]
     },
     "metadata": {},
     "output_type": "display_data",
     "source": "R display func"
    }
   ],
   "source": [
    "ggplot(ol_cluster_buckets) +\n",
    "    aes(x=bucket, y=n) +\n",
    "    geom_bar(stat='identity')"
   ]
  },
  {
   "cell_type": "code",
   "execution_count": 47,
   "metadata": {},
   "outputs": [],
   "source": [
    "ol_clusters %>% select(isbn_id=isbn, cluster) %>%\n",
    "    copy_to(db, ., name='ol_isbn_cluster', overwrite=TRUE, temporary=FALSE,\n",
    "            unique_indexes=list(\"isbn_id\"), indexes=list(\"cluster\"))"
   ]
  },
  {
   "cell_type": "markdown",
   "metadata": {},
   "source": [
    "### Load ISBN info to work on checking clusters"
   ]
  },
  {
   "cell_type": "code",
   "execution_count": 55,
   "metadata": {},
   "outputs": [
    {
     "name": "stdout",
     "output_type": "stream",
     "text": [
      "# A tibble: 18,404,050 x 2\n",
      "   isbn_id isbn         \n",
      " *   <int> <chr>        \n",
      " 1       1 4770030452   \n",
      " 2       2 9780760708552\n",
      " 3       3 0789317915   \n",
      " 4       4 9780828313650\n",
      " 5       5 0813372720   \n",
      " 6       6 2738452264   \n",
      " 7       7 0538264500   \n",
      " 8       8 3257219210   \n",
      " 9       9 0751528455   \n",
      "10      10 9780575085039\n",
      "# ... with 18,404,040 more rows\n"
     ]
    }
   ],
   "source": [
    "ol_isbn_ids = db %>% tbl('ol_isbn_id') %>% collect()\n",
    "print(ol_isbn_ids)"
   ]
  },
  {
   "cell_type": "markdown",
   "metadata": {},
   "source": [
    "How many ISBNs are in LOC but not OL?"
   ]
  },
  {
   "cell_type": "code",
   "execution_count": 61,
   "metadata": {},
   "outputs": [
    {
     "name": "stderr",
     "output_type": "stream",
     "text": [
      "Joining, by = \"isbn\"\n"
     ]
    },
    {
     "data": {
      "text/html": [
       "883782"
      ],
      "text/latex": [
       "883782"
      ],
      "text/markdown": [
       "883782"
      ],
      "text/plain": [
       "[1] 883782"
      ]
     },
     "metadata": {},
     "output_type": "display_data"
    }
   ],
   "source": [
    "missing_isbns = loc_isbn_ids %>% anti_join(ol_isbn_ids)\n",
    "nrow(missing_isbns)"
   ]
  },
  {
   "cell_type": "markdown",
   "metadata": {},
   "source": [
    "That is quite a few. What are their lengths?"
   ]
  },
  {
   "cell_type": "code",
   "execution_count": 66,
   "metadata": {},
   "outputs": [
    {
     "data": {
      "text/html": [
       "<table>\n",
       "<thead><tr><th scope=col>len</th><th scope=col>n</th></tr></thead>\n",
       "<tbody>\n",
       "\t<tr><td> 1    </td><td>     3</td></tr>\n",
       "\t<tr><td> 2    </td><td>    15</td></tr>\n",
       "\t<tr><td> 3    </td><td>    80</td></tr>\n",
       "\t<tr><td> 4    </td><td>     7</td></tr>\n",
       "\t<tr><td> 5    </td><td>     5</td></tr>\n",
       "\t<tr><td> 6    </td><td>     8</td></tr>\n",
       "\t<tr><td> 7    </td><td>    96</td></tr>\n",
       "\t<tr><td> 8    </td><td>    29</td></tr>\n",
       "\t<tr><td> 9    </td><td>   310</td></tr>\n",
       "\t<tr><td>10    </td><td>470027</td></tr>\n",
       "\t<tr><td>11    </td><td>   421</td></tr>\n",
       "\t<tr><td>12    </td><td>   265</td></tr>\n",
       "\t<tr><td>13    </td><td>412428</td></tr>\n",
       "\t<tr><td>14    </td><td>    75</td></tr>\n",
       "\t<tr><td>15    </td><td>     6</td></tr>\n",
       "\t<tr><td>16    </td><td>     3</td></tr>\n",
       "\t<tr><td>19    </td><td>     1</td></tr>\n",
       "\t<tr><td>21    </td><td>     2</td></tr>\n",
       "\t<tr><td>23    </td><td>     1</td></tr>\n",
       "</tbody>\n",
       "</table>\n"
      ],
      "text/latex": [
       "\\begin{tabular}{r|ll}\n",
       " len & n\\\\\n",
       "\\hline\n",
       "\t  1     &      3\\\\\n",
       "\t  2     &     15\\\\\n",
       "\t  3     &     80\\\\\n",
       "\t  4     &      7\\\\\n",
       "\t  5     &      5\\\\\n",
       "\t  6     &      8\\\\\n",
       "\t  7     &     96\\\\\n",
       "\t  8     &     29\\\\\n",
       "\t  9     &    310\\\\\n",
       "\t 10     & 470027\\\\\n",
       "\t 11     &    421\\\\\n",
       "\t 12     &    265\\\\\n",
       "\t 13     & 412428\\\\\n",
       "\t 14     &     75\\\\\n",
       "\t 15     &      6\\\\\n",
       "\t 16     &      3\\\\\n",
       "\t 19     &      1\\\\\n",
       "\t 21     &      2\\\\\n",
       "\t 23     &      1\\\\\n",
       "\\end{tabular}\n"
      ],
      "text/markdown": [
       "\n",
       "len | n | \n",
       "|---|---|---|---|---|---|---|---|---|---|---|---|---|---|---|---|---|---|---|\n",
       "|  1     |      3 | \n",
       "|  2     |     15 | \n",
       "|  3     |     80 | \n",
       "|  4     |      7 | \n",
       "|  5     |      5 | \n",
       "|  6     |      8 | \n",
       "|  7     |     96 | \n",
       "|  8     |     29 | \n",
       "|  9     |    310 | \n",
       "| 10     | 470027 | \n",
       "| 11     |    421 | \n",
       "| 12     |    265 | \n",
       "| 13     | 412428 | \n",
       "| 14     |     75 | \n",
       "| 15     |      6 | \n",
       "| 16     |      3 | \n",
       "| 19     |      1 | \n",
       "| 21     |      2 | \n",
       "| 23     |      1 | \n",
       "\n",
       "\n"
      ],
      "text/plain": [
       "   len n     \n",
       "1   1       3\n",
       "2   2      15\n",
       "3   3      80\n",
       "4   4       7\n",
       "5   5       5\n",
       "6   6       8\n",
       "7   7      96\n",
       "8   8      29\n",
       "9   9     310\n",
       "10 10  470027\n",
       "11 11     421\n",
       "12 12     265\n",
       "13 13  412428\n",
       "14 14      75\n",
       "15 15       6\n",
       "16 16       3\n",
       "17 19       1\n",
       "18 21       2\n",
       "19 23       1"
      ]
     },
     "metadata": {},
     "output_type": "display_data"
    }
   ],
   "source": [
    "missing_isbns %>% group_by(len=str_length(isbn)) %>% summarize(n=n()) %>% arrange(len)"
   ]
  },
  {
   "cell_type": "markdown",
   "metadata": {},
   "source": [
    "What are our validity stats of ISBNs from each database?"
   ]
  },
  {
   "cell_type": "code",
   "execution_count": 111,
   "metadata": {},
   "outputs": [
    {
     "data": {
      "text/plain": [
       "   Mode   FALSE    TRUE \n",
       "logical 1499638 5024827 "
      ]
     },
     "metadata": {},
     "output_type": "display_data"
    }
   ],
   "source": [
    "loc_isbn_ids %>% mutate(valid = is_valid_isbn(isbn)) %>% pull(valid) %>% summary()"
   ]
  },
  {
   "cell_type": "code",
   "execution_count": 112,
   "metadata": {},
   "outputs": [
    {
     "data": {
      "text/plain": [
       "    Mode    FALSE     TRUE \n",
       " logical  7507316 10896734 "
      ]
     },
     "metadata": {},
     "output_type": "display_data"
    }
   ],
   "source": [
    "ol_isbn_ids %>% mutate(valid = is_valid_isbn(isbn)) %>% pull(valid) %>% summary()"
   ]
  },
  {
   "cell_type": "code",
   "execution_count": 113,
   "metadata": {},
   "outputs": [
    {
     "data": {
      "text/html": [
       "<table>\n",
       "<thead><tr><th scope=col>isbn_id</th><th scope=col>isbn</th><th scope=col>valid</th></tr></thead>\n",
       "<tbody>\n",
       "\t<tr><td> 407      </td><td>979868073X</td><td>FALSE     </td></tr>\n",
       "\t<tr><td> 779      </td><td>9773190308</td><td>FALSE     </td></tr>\n",
       "\t<tr><td>1950      </td><td>3760833732</td><td>FALSE     </td></tr>\n",
       "\t<tr><td>1979      </td><td>0295953378</td><td>FALSE     </td></tr>\n",
       "\t<tr><td>2553      </td><td>0190479877</td><td>FALSE     </td></tr>\n",
       "\t<tr><td>2556      </td><td>0971089761</td><td>FALSE     </td></tr>\n",
       "</tbody>\n",
       "</table>\n"
      ],
      "text/latex": [
       "\\begin{tabular}{r|lll}\n",
       " isbn\\_id & isbn & valid\\\\\n",
       "\\hline\n",
       "\t  407       & 979868073X & FALSE     \\\\\n",
       "\t  779       & 9773190308 & FALSE     \\\\\n",
       "\t 1950       & 3760833732 & FALSE     \\\\\n",
       "\t 1979       & 0295953378 & FALSE     \\\\\n",
       "\t 2553       & 0190479877 & FALSE     \\\\\n",
       "\t 2556       & 0971089761 & FALSE     \\\\\n",
       "\\end{tabular}\n"
      ],
      "text/markdown": [
       "\n",
       "isbn_id | isbn | valid | \n",
       "|---|---|---|---|---|---|\n",
       "|  407       | 979868073X | FALSE      | \n",
       "|  779       | 9773190308 | FALSE      | \n",
       "| 1950       | 3760833732 | FALSE      | \n",
       "| 1979       | 0295953378 | FALSE      | \n",
       "| 2553       | 0190479877 | FALSE      | \n",
       "| 2556       | 0971089761 | FALSE      | \n",
       "\n",
       "\n"
      ],
      "text/plain": [
       "  isbn_id isbn       valid\n",
       "1  407    979868073X FALSE\n",
       "2  779    9773190308 FALSE\n",
       "3 1950    3760833732 FALSE\n",
       "4 1979    0295953378 FALSE\n",
       "5 2553    0190479877 FALSE\n",
       "6 2556    0971089761 FALSE"
      ]
     },
     "metadata": {},
     "output_type": "display_data"
    }
   ],
   "source": [
    "ol_isbn_ids %>% mutate(valid = is_valid_isbn(isbn)) %>% filter(!valid, str_length(isbn) == 10) %>% head()"
   ]
  },
  {
   "cell_type": "markdown",
   "metadata": {},
   "source": [
    "What are our ISBN lengths from OL?"
   ]
  },
  {
   "cell_type": "code",
   "execution_count": 117,
   "metadata": {},
   "outputs": [
    {
     "data": {
      "text/html": [
       "<table>\n",
       "<thead><tr><th scope=col>length</th><th scope=col>n</th></tr></thead>\n",
       "<tbody>\n",
       "\t<tr><td> 1      </td><td>      10</td></tr>\n",
       "\t<tr><td> 2      </td><td>      34</td></tr>\n",
       "\t<tr><td> 3      </td><td>      72</td></tr>\n",
       "\t<tr><td> 4      </td><td>     148</td></tr>\n",
       "\t<tr><td> 5      </td><td>     181</td></tr>\n",
       "\t<tr><td> 6      </td><td>     282</td></tr>\n",
       "\t<tr><td> 7      </td><td>     646</td></tr>\n",
       "\t<tr><td> 8      </td><td>    1740</td></tr>\n",
       "\t<tr><td> 9      </td><td>   20977</td></tr>\n",
       "\t<tr><td>10      </td><td>10939631</td></tr>\n",
       "\t<tr><td>11      </td><td>    5743</td></tr>\n",
       "\t<tr><td>12      </td><td>    2606</td></tr>\n",
       "\t<tr><td>13      </td><td> 7378557</td></tr>\n",
       "\t<tr><td>14      </td><td>    7647</td></tr>\n",
       "\t<tr><td>15      </td><td>     458</td></tr>\n",
       "\t<tr><td>16      </td><td>     533</td></tr>\n",
       "\t<tr><td>17      </td><td>   43042</td></tr>\n",
       "\t<tr><td>18      </td><td>     590</td></tr>\n",
       "\t<tr><td>19      </td><td>     162</td></tr>\n",
       "\t<tr><td>20      </td><td>     118</td></tr>\n",
       "\t<tr><td>21      </td><td>      41</td></tr>\n",
       "\t<tr><td>22      </td><td>     292</td></tr>\n",
       "\t<tr><td>23      </td><td>     116</td></tr>\n",
       "\t<tr><td>24      </td><td>      68</td></tr>\n",
       "\t<tr><td>25      </td><td>      85</td></tr>\n",
       "\t<tr><td>26      </td><td>      40</td></tr>\n",
       "\t<tr><td>27      </td><td>      20</td></tr>\n",
       "\t<tr><td>28      </td><td>      16</td></tr>\n",
       "\t<tr><td>29      </td><td>      30</td></tr>\n",
       "\t<tr><td>30      </td><td>      14</td></tr>\n",
       "\t<tr><td>⋮</td><td>⋮</td></tr>\n",
       "\t<tr><td> 53</td><td>1  </td></tr>\n",
       "\t<tr><td> 54</td><td>2  </td></tr>\n",
       "\t<tr><td> 55</td><td>3  </td></tr>\n",
       "\t<tr><td> 57</td><td>3  </td></tr>\n",
       "\t<tr><td> 58</td><td>2  </td></tr>\n",
       "\t<tr><td> 59</td><td>2  </td></tr>\n",
       "\t<tr><td> 60</td><td>4  </td></tr>\n",
       "\t<tr><td> 61</td><td>4  </td></tr>\n",
       "\t<tr><td> 62</td><td>1  </td></tr>\n",
       "\t<tr><td> 63</td><td>2  </td></tr>\n",
       "\t<tr><td> 65</td><td>4  </td></tr>\n",
       "\t<tr><td> 66</td><td>2  </td></tr>\n",
       "\t<tr><td> 67</td><td>2  </td></tr>\n",
       "\t<tr><td> 70</td><td>1  </td></tr>\n",
       "\t<tr><td> 71</td><td>1  </td></tr>\n",
       "\t<tr><td> 72</td><td>1  </td></tr>\n",
       "\t<tr><td> 73</td><td>1  </td></tr>\n",
       "\t<tr><td> 74</td><td>1  </td></tr>\n",
       "\t<tr><td> 81</td><td>1  </td></tr>\n",
       "\t<tr><td> 85</td><td>1  </td></tr>\n",
       "\t<tr><td> 89</td><td>1  </td></tr>\n",
       "\t<tr><td> 96</td><td>1  </td></tr>\n",
       "\t<tr><td> 99</td><td>1  </td></tr>\n",
       "\t<tr><td>107</td><td>2  </td></tr>\n",
       "\t<tr><td>112</td><td>1  </td></tr>\n",
       "\t<tr><td>113</td><td>1  </td></tr>\n",
       "\t<tr><td>115</td><td>1  </td></tr>\n",
       "\t<tr><td>132</td><td>1  </td></tr>\n",
       "\t<tr><td>139</td><td>1  </td></tr>\n",
       "\t<tr><td>764</td><td>1  </td></tr>\n",
       "</tbody>\n",
       "</table>\n"
      ],
      "text/latex": [
       "\\begin{tabular}{r|ll}\n",
       " length & n\\\\\n",
       "\\hline\n",
       "\t  1       &       10\\\\\n",
       "\t  2       &       34\\\\\n",
       "\t  3       &       72\\\\\n",
       "\t  4       &      148\\\\\n",
       "\t  5       &      181\\\\\n",
       "\t  6       &      282\\\\\n",
       "\t  7       &      646\\\\\n",
       "\t  8       &     1740\\\\\n",
       "\t  9       &    20977\\\\\n",
       "\t 10       & 10939631\\\\\n",
       "\t 11       &     5743\\\\\n",
       "\t 12       &     2606\\\\\n",
       "\t 13       &  7378557\\\\\n",
       "\t 14       &     7647\\\\\n",
       "\t 15       &      458\\\\\n",
       "\t 16       &      533\\\\\n",
       "\t 17       &    43042\\\\\n",
       "\t 18       &      590\\\\\n",
       "\t 19       &      162\\\\\n",
       "\t 20       &      118\\\\\n",
       "\t 21       &       41\\\\\n",
       "\t 22       &      292\\\\\n",
       "\t 23       &      116\\\\\n",
       "\t 24       &       68\\\\\n",
       "\t 25       &       85\\\\\n",
       "\t 26       &       40\\\\\n",
       "\t 27       &       20\\\\\n",
       "\t 28       &       16\\\\\n",
       "\t 29       &       30\\\\\n",
       "\t 30       &       14\\\\\n",
       "\t ⋮ & ⋮\\\\\n",
       "\t  53 & 1  \\\\\n",
       "\t  54 & 2  \\\\\n",
       "\t  55 & 3  \\\\\n",
       "\t  57 & 3  \\\\\n",
       "\t  58 & 2  \\\\\n",
       "\t  59 & 2  \\\\\n",
       "\t  60 & 4  \\\\\n",
       "\t  61 & 4  \\\\\n",
       "\t  62 & 1  \\\\\n",
       "\t  63 & 2  \\\\\n",
       "\t  65 & 4  \\\\\n",
       "\t  66 & 2  \\\\\n",
       "\t  67 & 2  \\\\\n",
       "\t  70 & 1  \\\\\n",
       "\t  71 & 1  \\\\\n",
       "\t  72 & 1  \\\\\n",
       "\t  73 & 1  \\\\\n",
       "\t  74 & 1  \\\\\n",
       "\t  81 & 1  \\\\\n",
       "\t  85 & 1  \\\\\n",
       "\t  89 & 1  \\\\\n",
       "\t  96 & 1  \\\\\n",
       "\t  99 & 1  \\\\\n",
       "\t 107 & 2  \\\\\n",
       "\t 112 & 1  \\\\\n",
       "\t 113 & 1  \\\\\n",
       "\t 115 & 1  \\\\\n",
       "\t 132 & 1  \\\\\n",
       "\t 139 & 1  \\\\\n",
       "\t 764 & 1  \\\\\n",
       "\\end{tabular}\n"
      ],
      "text/markdown": [
       "\n",
       "length | n | \n",
       "|---|---|---|---|---|---|---|---|---|---|---|---|---|---|---|---|---|---|---|---|---|---|---|---|---|---|---|---|---|---|---|---|---|---|---|---|---|---|---|---|---|---|---|---|---|---|---|---|---|---|---|---|---|---|---|---|---|---|---|---|---|\n",
       "|  1       |       10 | \n",
       "|  2       |       34 | \n",
       "|  3       |       72 | \n",
       "|  4       |      148 | \n",
       "|  5       |      181 | \n",
       "|  6       |      282 | \n",
       "|  7       |      646 | \n",
       "|  8       |     1740 | \n",
       "|  9       |    20977 | \n",
       "| 10       | 10939631 | \n",
       "| 11       |     5743 | \n",
       "| 12       |     2606 | \n",
       "| 13       |  7378557 | \n",
       "| 14       |     7647 | \n",
       "| 15       |      458 | \n",
       "| 16       |      533 | \n",
       "| 17       |    43042 | \n",
       "| 18       |      590 | \n",
       "| 19       |      162 | \n",
       "| 20       |      118 | \n",
       "| 21       |       41 | \n",
       "| 22       |      292 | \n",
       "| 23       |      116 | \n",
       "| 24       |       68 | \n",
       "| 25       |       85 | \n",
       "| 26       |       40 | \n",
       "| 27       |       20 | \n",
       "| 28       |       16 | \n",
       "| 29       |       30 | \n",
       "| 30       |       14 | \n",
       "| ⋮ | ⋮ | \n",
       "|  53 | 1   | \n",
       "|  54 | 2   | \n",
       "|  55 | 3   | \n",
       "|  57 | 3   | \n",
       "|  58 | 2   | \n",
       "|  59 | 2   | \n",
       "|  60 | 4   | \n",
       "|  61 | 4   | \n",
       "|  62 | 1   | \n",
       "|  63 | 2   | \n",
       "|  65 | 4   | \n",
       "|  66 | 2   | \n",
       "|  67 | 2   | \n",
       "|  70 | 1   | \n",
       "|  71 | 1   | \n",
       "|  72 | 1   | \n",
       "|  73 | 1   | \n",
       "|  74 | 1   | \n",
       "|  81 | 1   | \n",
       "|  85 | 1   | \n",
       "|  89 | 1   | \n",
       "|  96 | 1   | \n",
       "|  99 | 1   | \n",
       "| 107 | 2   | \n",
       "| 112 | 1   | \n",
       "| 113 | 1   | \n",
       "| 115 | 1   | \n",
       "| 132 | 1   | \n",
       "| 139 | 1   | \n",
       "| 764 | 1   | \n",
       "\n",
       "\n"
      ],
      "text/plain": [
       "   length n       \n",
       "1   1           10\n",
       "2   2           34\n",
       "3   3           72\n",
       "4   4          148\n",
       "5   5          181\n",
       "6   6          282\n",
       "7   7          646\n",
       "8   8         1740\n",
       "9   9        20977\n",
       "10 10     10939631\n",
       "11 11         5743\n",
       "12 12         2606\n",
       "13 13      7378557\n",
       "14 14         7647\n",
       "15 15          458\n",
       "16 16          533\n",
       "17 17        43042\n",
       "18 18          590\n",
       "19 19          162\n",
       "20 20          118\n",
       "21 21           41\n",
       "22 22          292\n",
       "23 23          116\n",
       "24 24           68\n",
       "25 25           85\n",
       "26 26           40\n",
       "27 27           20\n",
       "28 28           16\n",
       "29 29           30\n",
       "30 30           14\n",
       "⋮  ⋮      ⋮       \n",
       "50  53    1       \n",
       "51  54    2       \n",
       "52  55    3       \n",
       "53  57    3       \n",
       "54  58    2       \n",
       "55  59    2       \n",
       "56  60    4       \n",
       "57  61    4       \n",
       "58  62    1       \n",
       "59  63    2       \n",
       "60  65    4       \n",
       "61  66    2       \n",
       "62  67    2       \n",
       "63  70    1       \n",
       "64  71    1       \n",
       "65  72    1       \n",
       "66  73    1       \n",
       "67  74    1       \n",
       "68  81    1       \n",
       "69  85    1       \n",
       "70  89    1       \n",
       "71  96    1       \n",
       "72  99    1       \n",
       "73 107    2       \n",
       "74 112    1       \n",
       "75 113    1       \n",
       "76 115    1       \n",
       "77 132    1       \n",
       "78 139    1       \n",
       "79 764    1       "
      ]
     },
     "metadata": {},
     "output_type": "display_data"
    }
   ],
   "source": [
    "ol_isbn_ids %>% group_by(length=str_length(isbn)) %>% summarize(n=n())"
   ]
  },
  {
   "cell_type": "markdown",
   "metadata": {},
   "source": [
    "### LOC Cluster Splits\n",
    "Do any LOC clusters split into multiple OL clusters?"
   ]
  },
  {
   "cell_type": "code",
   "execution_count": 120,
   "metadata": {},
   "outputs": [
    {
     "name": "stderr",
     "output_type": "stream",
     "text": [
      "Joining, by = \"id\"\n",
      "Joining, by = \"isbn\"\n",
      "Joining, by = \"isbn_id\"\n"
     ]
    }
   ],
   "source": [
    "cluster_pairs = loc_clusters %>% rename(id=isbn) %>% \n",
    "    inner_join(loc_isbn_ids) %>%\n",
    "    inner_join(ol_isbn_ids) %>%\n",
    "    inner_join(rename(ol_clusters, isbn_id=isbn, ol_cluster=cluster)) %>%\n",
    "    select(cluster, ol_cluster) %>%\n",
    "    distinct()"
   ]
  },
  {
   "cell_type": "code",
   "execution_count": 123,
   "metadata": {},
   "outputs": [
    {
     "data": {
      "text/html": [
       "4679681"
      ],
      "text/latex": [
       "4679681"
      ],
      "text/markdown": [
       "4679681"
      ],
      "text/plain": [
       "[1] 4679681"
      ]
     },
     "metadata": {},
     "output_type": "display_data"
    }
   ],
   "source": [
    "nrow(cluster_pairs)"
   ]
  },
  {
   "cell_type": "code",
   "execution_count": 126,
   "metadata": {},
   "outputs": [
    {
     "name": "stdout",
     "output_type": "stream",
     "text": [
      "# A tibble: 20,060 x 2\n",
      "   cluster     n\n",
      "     <int> <int>\n",
      " 1    1838     2\n",
      " 2    1882     2\n",
      " 3    1892     2\n",
      " 4    1915     2\n",
      " 5    1955     2\n",
      " 6    1978     2\n",
      " 7    2017     2\n",
      " 8    2144     2\n",
      " 9    2147     2\n",
      "10    2173     2\n",
      "# ... with 20,050 more rows\n"
     ]
    }
   ],
   "source": [
    "multi_clusters = cluster_pairs %>% group_by(cluster) %>% summarize(n=n()) %>% filter(n > 1)\n",
    "print(multi_clusters)"
   ]
  },
  {
   "cell_type": "code",
   "execution_count": 129,
   "metadata": {},
   "outputs": [
    {
     "data": {
      "text/html": [
       "<table>\n",
       "<thead><tr><th scope=col>cluster</th><th scope=col>ol_cluster</th></tr></thead>\n",
       "<tbody>\n",
       "\t<tr><td>1838     </td><td>217590345</td></tr>\n",
       "\t<tr><td>1838     </td><td>210692460</td></tr>\n",
       "</tbody>\n",
       "</table>\n"
      ],
      "text/latex": [
       "\\begin{tabular}{r|ll}\n",
       " cluster & ol\\_cluster\\\\\n",
       "\\hline\n",
       "\t 1838      & 217590345\\\\\n",
       "\t 1838      & 210692460\\\\\n",
       "\\end{tabular}\n"
      ],
      "text/markdown": [
       "\n",
       "cluster | ol_cluster | \n",
       "|---|---|\n",
       "| 1838      | 217590345 | \n",
       "| 1838      | 210692460 | \n",
       "\n",
       "\n"
      ],
      "text/plain": [
       "  cluster ol_cluster\n",
       "1 1838    217590345 \n",
       "2 1838    210692460 "
      ]
     },
     "metadata": {},
     "output_type": "display_data"
    }
   ],
   "source": [
    "cluster_pairs %>% filter(cluster == 1838)"
   ]
  },
  {
   "cell_type": "code",
   "execution_count": 135,
   "metadata": {},
   "outputs": [
    {
     "name": "stderr",
     "output_type": "stream",
     "text": [
      "Joining, by = \"id\"\n"
     ]
    },
    {
     "data": {
      "text/html": [
       "<table>\n",
       "<thead><tr><th scope=col>id</th><th scope=col>cluster</th><th scope=col>isbn</th></tr></thead>\n",
       "<tbody>\n",
       "\t<tr><td>5799665   </td><td>1838      </td><td>0761920706</td></tr>\n",
       "\t<tr><td>5799666   </td><td>1838      </td><td>0761920714</td></tr>\n",
       "</tbody>\n",
       "</table>\n"
      ],
      "text/latex": [
       "\\begin{tabular}{r|lll}\n",
       " id & cluster & isbn\\\\\n",
       "\\hline\n",
       "\t 5799665    & 1838       & 0761920706\\\\\n",
       "\t 5799666    & 1838       & 0761920714\\\\\n",
       "\\end{tabular}\n"
      ],
      "text/markdown": [
       "\n",
       "id | cluster | isbn | \n",
       "|---|---|\n",
       "| 5799665    | 1838       | 0761920706 | \n",
       "| 5799666    | 1838       | 0761920714 | \n",
       "\n",
       "\n"
      ],
      "text/plain": [
       "  id      cluster isbn      \n",
       "1 5799665 1838    0761920706\n",
       "2 5799666 1838    0761920714"
      ]
     },
     "metadata": {},
     "output_type": "display_data"
    }
   ],
   "source": [
    "loc_clusters %>% filter(cluster == 1838) %>% rename(id=isbn) %>% inner_join(loc_isbn_ids)"
   ]
  },
  {
   "cell_type": "code",
   "execution_count": 136,
   "metadata": {},
   "outputs": [
    {
     "name": "stderr",
     "output_type": "stream",
     "text": [
      "Joining, by = \"isbn_id\"\n"
     ]
    },
    {
     "data": {
      "text/html": [
       "<table>\n",
       "<thead><tr><th scope=col>isbn_id</th><th scope=col>cluster</th><th scope=col>isbn</th></tr></thead>\n",
       "<tbody>\n",
       "\t<tr><td>1930343      </td><td>217590345    </td><td>0761920706   </td></tr>\n",
       "\t<tr><td>7590303      </td><td>217590345    </td><td>9780761920700</td></tr>\n",
       "</tbody>\n",
       "</table>\n"
      ],
      "text/latex": [
       "\\begin{tabular}{r|lll}\n",
       " isbn\\_id & cluster & isbn\\\\\n",
       "\\hline\n",
       "\t 1930343       & 217590345     & 0761920706   \\\\\n",
       "\t 7590303       & 217590345     & 9780761920700\\\\\n",
       "\\end{tabular}\n"
      ],
      "text/markdown": [
       "\n",
       "isbn_id | cluster | isbn | \n",
       "|---|---|\n",
       "| 1930343       | 217590345     | 0761920706    | \n",
       "| 7590303       | 217590345     | 9780761920700 | \n",
       "\n",
       "\n"
      ],
      "text/plain": [
       "  isbn_id cluster   isbn         \n",
       "1 1930343 217590345 0761920706   \n",
       "2 7590303 217590345 9780761920700"
      ]
     },
     "metadata": {},
     "output_type": "display_data"
    }
   ],
   "source": [
    "ol_clusters %>% filter(cluster == 217590345) %>% rename(isbn_id=isbn) %>% inner_join(ol_isbn_ids)"
   ]
  },
  {
   "cell_type": "code",
   "execution_count": 137,
   "metadata": {},
   "outputs": [
    {
     "name": "stderr",
     "output_type": "stream",
     "text": [
      "Joining, by = \"isbn_id\"\n"
     ]
    },
    {
     "data": {
      "text/html": [
       "<table>\n",
       "<thead><tr><th scope=col>isbn_id</th><th scope=col>cluster</th><th scope=col>isbn</th></tr></thead>\n",
       "<tbody>\n",
       "\t<tr><td> 772722      </td><td>210692460    </td><td>0761920714   </td></tr>\n",
       "\t<tr><td>3331543      </td><td>210692460    </td><td>9780761920717</td></tr>\n",
       "</tbody>\n",
       "</table>\n"
      ],
      "text/latex": [
       "\\begin{tabular}{r|lll}\n",
       " isbn\\_id & cluster & isbn\\\\\n",
       "\\hline\n",
       "\t  772722       & 210692460     & 0761920714   \\\\\n",
       "\t 3331543       & 210692460     & 9780761920717\\\\\n",
       "\\end{tabular}\n"
      ],
      "text/markdown": [
       "\n",
       "isbn_id | cluster | isbn | \n",
       "|---|---|\n",
       "|  772722       | 210692460     | 0761920714    | \n",
       "| 3331543       | 210692460     | 9780761920717 | \n",
       "\n",
       "\n"
      ],
      "text/plain": [
       "  isbn_id cluster   isbn         \n",
       "1  772722 210692460 0761920714   \n",
       "2 3331543 210692460 9780761920717"
      ]
     },
     "metadata": {},
     "output_type": "display_data"
    }
   ],
   "source": [
    "ol_clusters %>% filter(cluster == 210692460) %>% rename(isbn_id=isbn) %>% inner_join(ol_isbn_ids)"
   ]
  },
  {
   "cell_type": "code",
   "execution_count": 151,
   "metadata": {},
   "outputs": [
    {
     "data": {
      "text/html": [
       "FALSE"
      ],
      "text/latex": [
       "FALSE"
      ],
      "text/markdown": [
       "FALSE"
      ],
      "text/plain": [
       "[1] FALSE"
      ]
     },
     "metadata": {},
     "output_type": "display_data"
    }
   ],
   "source": [
    "is_valid_isbn(\"9780761920717\")"
   ]
  },
  {
   "cell_type": "code",
   "execution_count": 127,
   "metadata": {},
   "outputs": [
    {
     "data": {
      "text/html": [
       "<table>\n",
       "<thead><tr><th scope=col>metric</th><th scope=col>value</th></tr></thead>\n",
       "<tbody>\n",
       "\t<tr><td>LOC Clusters      </td><td>5186987           </td></tr>\n",
       "\t<tr><td>Split LOC Clusters</td><td>  20060           </td></tr>\n",
       "\t<tr><td>OL Clusters       </td><td>9829550           </td></tr>\n",
       "</tbody>\n",
       "</table>\n"
      ],
      "text/latex": [
       "\\begin{tabular}{r|ll}\n",
       " metric & value\\\\\n",
       "\\hline\n",
       "\t LOC Clusters       & 5186987           \\\\\n",
       "\t Split LOC Clusters &   20060           \\\\\n",
       "\t OL Clusters        & 9829550           \\\\\n",
       "\\end{tabular}\n"
      ],
      "text/markdown": [
       "\n",
       "metric | value | \n",
       "|---|---|---|\n",
       "| LOC Clusters       | 5186987            | \n",
       "| Split LOC Clusters |   20060            | \n",
       "| OL Clusters        | 9829550            | \n",
       "\n",
       "\n"
      ],
      "text/plain": [
       "  metric             value  \n",
       "1 LOC Clusters       5186987\n",
       "2 Split LOC Clusters   20060\n",
       "3 OL Clusters        9829550"
      ]
     },
     "metadata": {},
     "output_type": "display_data"
    }
   ],
   "source": [
    "tribble(\n",
    "    ~metric, ~value,\n",
    "    \"LOC Clusters\", length(unique(loc_clusters$cluster)),\n",
    "    \"Split LOC Clusters\", nrow(multi_clusters),\n",
    "    \"OL Clusters\", length(unique(ol_clusters$cluster))\n",
    ")"
   ]
  },
  {
   "cell_type": "code",
   "execution_count": null,
   "metadata": {},
   "outputs": [],
   "source": []
  }
 ],
 "metadata": {
  "kernelspec": {
   "display_name": "R",
   "language": "R",
   "name": "ir"
  },
  "language_info": {
   "codemirror_mode": "r",
   "file_extension": ".r",
   "mimetype": "text/x-r-source",
   "name": "R",
   "pygments_lexer": "r",
   "version": "3.4.3"
  }
 },
 "nbformat": 4,
 "nbformat_minor": 2
}
