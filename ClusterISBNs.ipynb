{
 "cells": [
  {
   "cell_type": "markdown",
   "metadata": {},
   "source": [
    "# ISBN Clustering"
   ]
  },
  {
   "cell_type": "code",
   "execution_count": 1,
   "metadata": {},
   "outputs": [
    {
     "name": "stderr",
     "output_type": "stream",
     "text": [
      "── Attaching packages ─────────────────────────────────────── tidyverse 1.2.1 ──\n",
      "✔ ggplot2 2.2.1     ✔ purrr   0.2.4\n",
      "✔ tibble  1.4.1     ✔ dplyr   0.7.4\n",
      "✔ tidyr   0.7.2     ✔ stringr 1.2.0\n",
      "✔ readr   1.1.1     ✔ forcats 0.2.0\n",
      "── Conflicts ────────────────────────────────────────── tidyverse_conflicts() ──\n",
      "✖ dplyr::between()   masks data.table::between()\n",
      "✖ dplyr::filter()    masks stats::filter()\n",
      "✖ dplyr::first()     masks data.table::first()\n",
      "✖ dplyr::lag()       masks stats::lag()\n",
      "✖ dplyr::last()      masks data.table::last()\n",
      "✖ purrr::transpose() masks data.table::transpose()\n"
     ]
    }
   ],
   "source": [
    "library(data.table)\n",
    "library(tidyverse)"
   ]
  },
  {
   "cell_type": "code",
   "execution_count": 2,
   "metadata": {},
   "outputs": [],
   "source": [
    "options(repr.plot.height=5)"
   ]
  },
  {
   "cell_type": "code",
   "execution_count": 4,
   "metadata": {},
   "outputs": [],
   "source": [
    "db = DBI::dbConnect(RPostgreSQL::PostgreSQL(), dbname='openlib')"
   ]
  },
  {
   "cell_type": "code",
   "execution_count": 20,
   "metadata": {},
   "outputs": [],
   "source": [
    "numspaces = list(work=100000000, edition=200000000, rec=300000000, isbn=900000000)"
   ]
  },
  {
   "cell_type": "markdown",
   "metadata": {},
   "source": [
    "## Clustering Algorithm"
   ]
  },
  {
   "cell_type": "markdown",
   "metadata": {},
   "source": [
    "We cluster ISBNs by taking the bipartite graph of ISBNs and records, and computing the closure for each ISBN.  Each closure becomes a cluster with a single ‘book’ ID."
   ]
  },
  {
   "cell_type": "code",
   "execution_count": 5,
   "metadata": {},
   "outputs": [],
   "source": [
    "Rcpp::sourceCpp(\"cluster.cpp\")\n",
    "cluster_isbns = function(isbn_rec_tbl) {\n",
    "    message(\"initializing clusters\")\n",
    "    clusters = isbn_rec_tbl %>% group_by(isbn_id) %>% summarize(cluster=min(record)) %>% ungroup() %>%\n",
    "        mutate(cluster = as.integer(cluster))\n",
    "    message(\"populating edges\")\n",
    "    edges = isbn_rec_tbl %>%\n",
    "        rename(left_isbn = isbn_id) %>%\n",
    "        inner_join(isbn_rec_tbl %>% rename(right_isbn = isbn_id)) %>%\n",
    "        select(left_isbn, right_isbn) %>%\n",
    "        distinct()\n",
    "    message(\"clustering \", nrow(clusters), \" isbns with \", nrow(edges), \" edges\")\n",
    "    c2 = compute_clusters(clusters, edges)\n",
    "    message(\"built \", length(unique(c2$cluster)), \" clusters\")\n",
    "    c2\n",
    "}"
   ]
  },
  {
   "cell_type": "markdown",
   "metadata": {},
   "source": [
    "## Library of Congress"
   ]
  },
  {
   "cell_type": "code",
   "execution_count": 21,
   "metadata": {},
   "outputs": [
    {
     "name": "stdout",
     "output_type": "stream",
     "text": [
      "# A tibble: 6,598,494 x 2\n",
      "   isbn_id  record\n",
      " *   <int>   <int>\n",
      " 1 1208872 9270712\n",
      " 2 1905061 9270713\n",
      " 3   55906 9270713\n",
      " 4 3248213 9270714\n",
      " 5 6350339 9270715\n",
      " 6  564406 9270715\n",
      " 7 1206432 9270716\n",
      " 8  684237 9270717\n",
      " 9 3164770 9270718\n",
      "10 3004299 9270718\n",
      "# ... with 6,598,484 more rows\n"
     ]
    }
   ],
   "source": [
    "loc_rec_isbns = db %>% tbl('loc_rec_isbn') %>% select(isbn_id, record=rec_id) %>% collect()\n",
    "print(loc_rec_isbns)"
   ]
  },
  {
   "cell_type": "code",
   "execution_count": 22,
   "metadata": {},
   "outputs": [
    {
     "name": "stderr",
     "output_type": "stream",
     "text": [
      "initializing clusters\n",
      "populating edges\n",
      "Joining, by = \"record\"\n",
      "clustering 6522453 isbns with 10485637 edges\n",
      "[    0.00] starting iteration 1\n",
      "[    1.74] iteration 1 changed 23985 memberships\n",
      "[    1.74] starting iteration 2\n",
      "[    3.45] iteration 2 changed 288 memberships\n",
      "[    3.46] starting iteration 3\n",
      "[    5.19] iteration 3 changed 2 memberships\n",
      "[    5.20] starting iteration 4\n",
      "[    6.91] iteration 4 changed 0 memberships\n",
      "built 5185860 clusters\n"
     ]
    }
   ],
   "source": [
    "loc_clusters = cluster_isbns(loc_rec_isbns)"
   ]
  },
  {
   "cell_type": "markdown",
   "metadata": {},
   "source": [
    "How big are our largest clusters?"
   ]
  },
  {
   "cell_type": "code",
   "execution_count": 23,
   "metadata": {},
   "outputs": [
    {
     "data": {
      "text/html": [
       "<table>\n",
       "<thead><tr><th scope=col>cluster</th><th scope=col>nisbns</th></tr></thead>\n",
       "<tbody>\n",
       "\t<tr><td>9927813</td><td>162    </td></tr>\n",
       "\t<tr><td>  44464</td><td>128    </td></tr>\n",
       "\t<tr><td>7451086</td><td>123    </td></tr>\n",
       "\t<tr><td>2577188</td><td>116    </td></tr>\n",
       "\t<tr><td>6446243</td><td> 98    </td></tr>\n",
       "\t<tr><td>7394785</td><td> 84    </td></tr>\n",
       "</tbody>\n",
       "</table>\n"
      ],
      "text/latex": [
       "\\begin{tabular}{r|ll}\n",
       " cluster & nisbns\\\\\n",
       "\\hline\n",
       "\t 9927813 & 162    \\\\\n",
       "\t   44464 & 128    \\\\\n",
       "\t 7451086 & 123    \\\\\n",
       "\t 2577188 & 116    \\\\\n",
       "\t 6446243 &  98    \\\\\n",
       "\t 7394785 &  84    \\\\\n",
       "\\end{tabular}\n"
      ],
      "text/markdown": [
       "\n",
       "cluster | nisbns | \n",
       "|---|---|---|---|---|---|\n",
       "| 9927813 | 162     | \n",
       "|   44464 | 128     | \n",
       "| 7451086 | 123     | \n",
       "| 2577188 | 116     | \n",
       "| 6446243 |  98     | \n",
       "| 7394785 |  84     | \n",
       "\n",
       "\n"
      ],
      "text/plain": [
       "  cluster nisbns\n",
       "1 9927813 162   \n",
       "2   44464 128   \n",
       "3 7451086 123   \n",
       "4 2577188 116   \n",
       "5 6446243  98   \n",
       "6 7394785  84   "
      ]
     },
     "metadata": {},
     "output_type": "display_data"
    }
   ],
   "source": [
    "cluster_sizes = loc_clusters %>% group_by(cluster) %>% summarize(nisbns=n()) %>% ungroup() \n",
    "cluster_sizes %>% arrange(-nisbns) %>% head()"
   ]
  },
  {
   "cell_type": "code",
   "execution_count": 24,
   "metadata": {},
   "outputs": [
    {
     "data": {},
     "metadata": {},
     "output_type": "display_data"
    },
    {
     "data": {
      "image/png": "[encoded data removed]",
      "text/plain": [
       "plot without title"
      ]
     },
     "metadata": {},
     "output_type": "display_data",
     "source": "R display func"
    }
   ],
   "source": [
    "ggplot(cluster_sizes) +\n",
    "    aes(x=nisbns) +\n",
    "    geom_histogram(binwidth=1)"
   ]
  },
  {
   "cell_type": "code",
   "execution_count": 34,
   "metadata": {},
   "outputs": [],
   "source": [
    "loc_clusters %>% select(isbn_id, cluster) %>% write_csv('data/loc-clusters.csv', col_names = FALSE)"
   ]
  },
  {
   "cell_type": "markdown",
   "metadata": {},
   "source": [
    "## OpenLibrary"
   ]
  },
  {
   "cell_type": "code",
   "execution_count": 12,
   "metadata": {},
   "outputs": [],
   "source": [
    "ol_rec_edges = db %>% tbl('ol_isbn_link') %>% select(isbn_id, record=book_code) %>% \n",
    "    collect()"
   ]
  },
  {
   "cell_type": "code",
   "execution_count": 13,
   "metadata": {},
   "outputs": [
    {
     "name": "stdout",
     "output_type": "stream",
     "text": [
      "# A tibble: 20,952,388 x 2\n",
      "    isbn_id    record\n",
      " *    <int>     <int>\n",
      " 1  9496692 104639583\n",
      " 2 18948890 114945908\n",
      " 3 17231899 107645957\n",
      " 4  1458705 116226665\n",
      " 5 15093692 105217942\n",
      " 6 14312993 109315235\n",
      " 7 12671033 110656498\n",
      " 8 13787054 109698248\n",
      " 9  1657041 108963121\n",
      "10  3001220 103934755\n",
      "# ... with 20,952,378 more rows\n"
     ]
    }
   ],
   "source": [
    "print(ol_rec_edges)"
   ]
  },
  {
   "cell_type": "code",
   "execution_count": 14,
   "metadata": {},
   "outputs": [
    {
     "name": "stderr",
     "output_type": "stream",
     "text": [
      "initializing clusters\n",
      "populating edges\n",
      "Joining, by = \"record\"\n",
      "clustering 18310061 isbns with 205738181 edges\n",
      "[    0.00] starting iteration 1\n",
      "[   32.88] iteration 1 changed 1194546 memberships\n",
      "[   32.88] starting iteration 2\n",
      "[   63.05] iteration 2 changed 60532 memberships\n",
      "[   63.06] starting iteration 3\n",
      "[   93.05] iteration 3 changed 6172 memberships\n",
      "[   93.05] starting iteration 4\n",
      "[  122.64] iteration 4 changed 1246 memberships\n",
      "[  122.65] starting iteration 5\n",
      "[  151.93] iteration 5 changed 86 memberships\n",
      "[  151.94] starting iteration 6\n",
      "[  181.60] iteration 6 changed 13 memberships\n",
      "[  181.61] starting iteration 7\n",
      "[  211.51] iteration 7 changed 0 memberships\n",
      "built 9754781 clusters\n"
     ]
    }
   ],
   "source": [
    "ol_clusters = cluster_isbns(ol_rec_edges)"
   ]
  },
  {
   "cell_type": "code",
   "execution_count": 15,
   "metadata": {},
   "outputs": [
    {
     "data": {
      "text/html": [
       "<table>\n",
       "<thead><tr><th scope=col>cluster</th><th scope=col>nisbns</th></tr></thead>\n",
       "<tbody>\n",
       "\t<tr><td>105077683</td><td>7520     </td></tr>\n",
       "\t<tr><td>100339351</td><td>6518     </td></tr>\n",
       "\t<tr><td>100004153</td><td>5161     </td></tr>\n",
       "\t<tr><td>107956464</td><td>4276     </td></tr>\n",
       "\t<tr><td>106611855</td><td>2820     </td></tr>\n",
       "\t<tr><td>100058368</td><td>2109     </td></tr>\n",
       "</tbody>\n",
       "</table>\n"
      ],
      "text/latex": [
       "\\begin{tabular}{r|ll}\n",
       " cluster & nisbns\\\\\n",
       "\\hline\n",
       "\t 105077683 & 7520     \\\\\n",
       "\t 100339351 & 6518     \\\\\n",
       "\t 100004153 & 5161     \\\\\n",
       "\t 107956464 & 4276     \\\\\n",
       "\t 106611855 & 2820     \\\\\n",
       "\t 100058368 & 2109     \\\\\n",
       "\\end{tabular}\n"
      ],
      "text/markdown": [
       "\n",
       "cluster | nisbns | \n",
       "|---|---|---|---|---|---|\n",
       "| 105077683 | 7520      | \n",
       "| 100339351 | 6518      | \n",
       "| 100004153 | 5161      | \n",
       "| 107956464 | 4276      | \n",
       "| 106611855 | 2820      | \n",
       "| 100058368 | 2109      | \n",
       "\n",
       "\n"
      ],
      "text/plain": [
       "  cluster   nisbns\n",
       "1 105077683 7520  \n",
       "2 100339351 6518  \n",
       "3 100004153 5161  \n",
       "4 107956464 4276  \n",
       "5 106611855 2820  \n",
       "6 100058368 2109  "
      ]
     },
     "metadata": {},
     "output_type": "display_data"
    }
   ],
   "source": [
    "ol_cluster_sizes = ol_clusters %>% group_by(cluster) %>% summarize(nisbns=n()) %>% ungroup() \n",
    "ol_cluster_sizes %>% arrange(-nisbns) %>% head()"
   ]
  },
  {
   "cell_type": "code",
   "execution_count": 16,
   "metadata": {},
   "outputs": [
    {
     "data": {
      "text/html": [
       "<table>\n",
       "<thead><tr><th scope=col>bucket</th><th scope=col>n</th></tr></thead>\n",
       "<tbody>\n",
       "\t<tr><td>0      </td><td>5882132</td></tr>\n",
       "\t<tr><td>1      </td><td>  48810</td></tr>\n",
       "\t<tr><td>2      </td><td>    395</td></tr>\n",
       "\t<tr><td>3      </td><td>     12</td></tr>\n",
       "</tbody>\n",
       "</table>\n"
      ],
      "text/latex": [
       "\\begin{tabular}{r|ll}\n",
       " bucket & n\\\\\n",
       "\\hline\n",
       "\t 0       & 5882132\\\\\n",
       "\t 1       &   48810\\\\\n",
       "\t 2       &     395\\\\\n",
       "\t 3       &      12\\\\\n",
       "\\end{tabular}\n"
      ],
      "text/markdown": [
       "\n",
       "bucket | n | \n",
       "|---|---|---|---|\n",
       "| 0       | 5882132 | \n",
       "| 1       |   48810 | \n",
       "| 2       |     395 | \n",
       "| 3       |      12 | \n",
       "\n",
       "\n"
      ],
      "text/plain": [
       "  bucket n      \n",
       "1 0      5882132\n",
       "2 1        48810\n",
       "3 2          395\n",
       "4 3           12"
      ]
     },
     "metadata": {},
     "output_type": "display_data"
    }
   ],
   "source": [
    "ol_cluster_sizes = ol_cluster_sizes %>% mutate(bucket = as.integer(log10(nisbns)))\n",
    "ol_cluster_buckets = ol_cluster_sizes %>% filter(nisbns > 1) %>% group_by(bucket) %>% summarize(n=n())\n",
    "ol_cluster_buckets"
   ]
  },
  {
   "cell_type": "code",
   "execution_count": 17,
   "metadata": {},
   "outputs": [
    {
     "data": {},
     "metadata": {},
     "output_type": "display_data"
    },
    {
     "data": {
      "image/png": "[encoded data removed]",
      "text/plain": [
       "plot without title"
      ]
     },
     "metadata": {},
     "output_type": "display_data",
     "source": "R display func"
    }
   ],
   "source": [
    "ggplot(ol_cluster_buckets) +\n",
    "    aes(x=bucket, y=n) +\n",
    "    geom_bar(stat='identity')"
   ]
  },
  {
   "cell_type": "code",
   "execution_count": 33,
   "metadata": {},
   "outputs": [],
   "source": [
    "ol_clusters %>% select(isbn_id, cluster) %>% write_csv('data/ol-clusters.csv', col_names = FALSE)"
   ]
  },
  {
   "cell_type": "markdown",
   "metadata": {},
   "source": [
    "## Integrated Clusters"
   ]
  },
  {
   "cell_type": "code",
   "execution_count": 37,
   "metadata": {},
   "outputs": [],
   "source": [
    "all_isbn_recs = bind_rows(\n",
    "    loc_rec_isbns %>% mutate(record = record + numspaces$rec),\n",
    "    ol_rec_edges\n",
    ")"
   ]
  },
  {
   "cell_type": "code",
   "execution_count": 38,
   "metadata": {},
   "outputs": [
    {
     "name": "stdout",
     "output_type": "stream",
     "text": [
      "# A tibble: 27,550,882 x 2\n",
      "   isbn_id    record\n",
      "     <int>     <dbl>\n",
      " 1 1208872 309270712\n",
      " 2 1905061 309270713\n",
      " 3   55906 309270713\n",
      " 4 3248213 309270714\n",
      " 5 6350339 309270715\n",
      " 6  564406 309270715\n",
      " 7 1206432 309270716\n",
      " 8  684237 309270717\n",
      " 9 3164770 309270718\n",
      "10 3004299 309270718\n",
      "# ... with 27,550,872 more rows\n"
     ]
    }
   ],
   "source": [
    "print(all_isbn_recs)"
   ]
  },
  {
   "cell_type": "code",
   "execution_count": 39,
   "metadata": {},
   "outputs": [
    {
     "name": "stderr",
     "output_type": "stream",
     "text": [
      "initializing clusters\n",
      "populating edges\n",
      "Joining, by = \"record\"\n",
      "clustering 19192081 isbns with 207995923 edges\n",
      "[    0.00] starting iteration 1\n",
      "[   30.49] iteration 1 changed 1429312 memberships\n",
      "[   30.50] starting iteration 2\n",
      "[   59.02] iteration 2 changed 53994 memberships\n",
      "[   59.02] starting iteration 3\n",
      "[   87.93] iteration 3 changed 5916 memberships\n",
      "[   87.94] starting iteration 4\n",
      "[  116.86] iteration 4 changed 1209 memberships\n",
      "[  116.87] starting iteration 5\n",
      "[  145.45] iteration 5 changed 104 memberships\n",
      "[  145.45] starting iteration 6\n",
      "[  174.62] iteration 6 changed 7 memberships\n",
      "[  174.63] starting iteration 7\n",
      "[  203.32] iteration 7 changed 5 memberships\n",
      "[  203.33] starting iteration 8\n",
      "[  232.13] iteration 8 changed 0 memberships\n",
      "built 10261127 clusters\n"
     ]
    }
   ],
   "source": [
    "int_clusters = cluster_isbns(all_isbn_recs)"
   ]
  },
  {
   "cell_type": "code",
   "execution_count": 40,
   "metadata": {},
   "outputs": [
    {
     "data": {
      "text/html": [
       "<table>\n",
       "<thead><tr><th scope=col>cluster</th><th scope=col>nisbns</th></tr></thead>\n",
       "<tbody>\n",
       "\t<tr><td>105077683</td><td>7520     </td></tr>\n",
       "\t<tr><td>100339351</td><td>6518     </td></tr>\n",
       "\t<tr><td>100004153</td><td>5169     </td></tr>\n",
       "\t<tr><td>107956464</td><td>4276     </td></tr>\n",
       "\t<tr><td>106611855</td><td>2820     </td></tr>\n",
       "\t<tr><td>100058368</td><td>2126     </td></tr>\n",
       "</tbody>\n",
       "</table>\n"
      ],
      "text/latex": [
       "\\begin{tabular}{r|ll}\n",
       " cluster & nisbns\\\\\n",
       "\\hline\n",
       "\t 105077683 & 7520     \\\\\n",
       "\t 100339351 & 6518     \\\\\n",
       "\t 100004153 & 5169     \\\\\n",
       "\t 107956464 & 4276     \\\\\n",
       "\t 106611855 & 2820     \\\\\n",
       "\t 100058368 & 2126     \\\\\n",
       "\\end{tabular}\n"
      ],
      "text/markdown": [
       "\n",
       "cluster | nisbns | \n",
       "|---|---|---|---|---|---|\n",
       "| 105077683 | 7520      | \n",
       "| 100339351 | 6518      | \n",
       "| 100004153 | 5169      | \n",
       "| 107956464 | 4276      | \n",
       "| 106611855 | 2820      | \n",
       "| 100058368 | 2126      | \n",
       "\n",
       "\n"
      ],
      "text/plain": [
       "  cluster   nisbns\n",
       "1 105077683 7520  \n",
       "2 100339351 6518  \n",
       "3 100004153 5169  \n",
       "4 107956464 4276  \n",
       "5 106611855 2820  \n",
       "6 100058368 2126  "
      ]
     },
     "metadata": {},
     "output_type": "display_data"
    }
   ],
   "source": [
    "int_cluster_sizes = int_clusters %>% group_by(cluster) %>% summarize(nisbns=n()) %>% ungroup() \n",
    "int_cluster_sizes %>% arrange(-nisbns) %>% head()"
   ]
  },
  {
   "cell_type": "code",
   "execution_count": 41,
   "metadata": {},
   "outputs": [
    {
     "data": {
      "text/html": [
       "<table>\n",
       "<thead><tr><th scope=col>bucket</th><th scope=col>n</th></tr></thead>\n",
       "<tbody>\n",
       "\t<tr><td>0      </td><td>6102059</td></tr>\n",
       "\t<tr><td>1      </td><td>  50761</td></tr>\n",
       "\t<tr><td>2      </td><td>    406</td></tr>\n",
       "\t<tr><td>3      </td><td>     12</td></tr>\n",
       "</tbody>\n",
       "</table>\n"
      ],
      "text/latex": [
       "\\begin{tabular}{r|ll}\n",
       " bucket & n\\\\\n",
       "\\hline\n",
       "\t 0       & 6102059\\\\\n",
       "\t 1       &   50761\\\\\n",
       "\t 2       &     406\\\\\n",
       "\t 3       &      12\\\\\n",
       "\\end{tabular}\n"
      ],
      "text/markdown": [
       "\n",
       "bucket | n | \n",
       "|---|---|---|---|\n",
       "| 0       | 6102059 | \n",
       "| 1       |   50761 | \n",
       "| 2       |     406 | \n",
       "| 3       |      12 | \n",
       "\n",
       "\n"
      ],
      "text/plain": [
       "  bucket n      \n",
       "1 0      6102059\n",
       "2 1        50761\n",
       "3 2          406\n",
       "4 3           12"
      ]
     },
     "metadata": {},
     "output_type": "display_data"
    }
   ],
   "source": [
    "int_cluster_sizes = int_cluster_sizes %>% mutate(bucket = as.integer(log10(nisbns)))\n",
    "int_cluster_buckets = int_cluster_sizes %>% filter(nisbns > 1) %>% group_by(bucket) %>% summarize(n=n())\n",
    "int_cluster_buckets"
   ]
  },
  {
   "cell_type": "code",
   "execution_count": 42,
   "metadata": {},
   "outputs": [
    {
     "data": {},
     "metadata": {},
     "output_type": "display_data"
    },
    {
     "data": {
      "image/png": "[encoded data removed]",
      "text/plain": [
       "plot without title"
      ]
     },
     "metadata": {},
     "output_type": "display_data",
     "source": "R display func"
    }
   ],
   "source": [
    "ggplot(int_cluster_buckets) +\n",
    "    aes(x=bucket, y=n) +\n",
    "    geom_bar(stat='identity')"
   ]
  },
  {
   "cell_type": "code",
   "execution_count": 43,
   "metadata": {},
   "outputs": [],
   "source": [
    "int_clusters %>% select(isbn_id, cluster) %>% write_csv('data/isbn-clusters.csv', col_names=FALSE)"
   ]
  },
  {
   "cell_type": "markdown",
   "metadata": {},
   "source": [
    "### Load ISBN info to work on checking clusters"
   ]
  },
  {
   "cell_type": "code",
   "execution_count": 35,
   "metadata": {},
   "outputs": [
    {
     "name": "stdout",
     "output_type": "stream",
     "text": [
      "# A tibble: 20,485,242 x 2\n",
      "   isbn_id isbn         \n",
      " *   <int> <chr>        \n",
      " 1       1 1878005340   \n",
      " 2       2 0813372720   \n",
      " 3       3 0160416205   \n",
      " 4       4 3927480118   \n",
      " 5       5 8185867712   \n",
      " 6       6 3789016853   \n",
      " 7       7 156071056X   \n",
      " 8       8 1410449025   \n",
      " 9       9 9781847424280\n",
      "10      10 8477852146   \n",
      "# ... with 20,485,232 more rows\n"
     ]
    }
   ],
   "source": [
    "isbn_ids = db %>% tbl('isbn_id') %>% collect()\n",
    "print(isbn_ids)"
   ]
  },
  {
   "cell_type": "markdown",
   "metadata": {},
   "source": [
    "How many ISBNs are in LOC but not OL?"
   ]
  },
  {
   "cell_type": "code",
   "execution_count": 36,
   "metadata": {},
   "outputs": [
    {
     "name": "stderr",
     "output_type": "stream",
     "text": [
      "Joining, by = \"isbn_id\"\n"
     ]
    },
    {
     "data": {
      "text/html": [
       "882020"
      ],
      "text/latex": [
       "882020"
      ],
      "text/markdown": [
       "882020"
      ],
      "text/plain": [
       "[1] 882020"
      ]
     },
     "metadata": {},
     "output_type": "display_data"
    }
   ],
   "source": [
    "missing_isbns = loc_clusters %>% anti_join(select(ol_clusters, isbn_id))\n",
    "nrow(missing_isbns)"
   ]
  },
  {
   "cell_type": "code",
   "execution_count": null,
   "metadata": {},
   "outputs": [],
   "source": []
  }
 ],
 "metadata": {
  "kernelspec": {
   "display_name": "R",
   "language": "R",
   "name": "ir"
  },
  "language_info": {
   "codemirror_mode": "r",
   "file_extension": ".r",
   "mimetype": "text/x-r-source",
   "name": "R",
   "pygments_lexer": "r",
   "version": "3.4.3"
  }
 },
 "nbformat": 4,
 "nbformat_minor": 2
}
