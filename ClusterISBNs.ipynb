{
 "cells": [
  {
   "cell_type": "markdown",
   "metadata": {},
   "source": [
    "# ISBN Clustering"
   ]
  },
  {
   "cell_type": "code",
   "execution_count": 76,
   "metadata": {},
   "outputs": [
    {
     "name": "stderr",
     "output_type": "stream",
     "text": [
      "\n",
      "Attaching package: ‘foreach’\n",
      "\n",
      "The following objects are masked from ‘package:purrr’:\n",
      "\n",
      "    accumulate, when\n",
      "\n",
      "Loading required package: iterators\n",
      "Loading required package: parallel\n"
     ]
    }
   ],
   "source": [
    "library(data.table)\n",
    "library(foreach)\n",
    "library(doParallel)\n",
    "library(tidyverse)"
   ]
  },
  {
   "cell_type": "code",
   "execution_count": 77,
   "metadata": {},
   "outputs": [],
   "source": [
    "registerDoParallel()"
   ]
  },
  {
   "cell_type": "code",
   "execution_count": 43,
   "metadata": {},
   "outputs": [],
   "source": [
    "options(repr.plot.height=5)"
   ]
  },
  {
   "cell_type": "code",
   "execution_count": 73,
   "metadata": {},
   "outputs": [],
   "source": [
    "db = src_postgres(dbname = 'openlib')"
   ]
  },
  {
   "cell_type": "markdown",
   "metadata": {},
   "source": [
    "## Utilities"
   ]
  },
  {
   "cell_type": "markdown",
   "metadata": {},
   "source": [
    "### Timed Messaging\n",
    "\n",
    "This function takes a start time, and prints the time between start time and current time with the message."
   ]
  },
  {
   "cell_type": "code",
   "execution_count": 32,
   "metadata": {},
   "outputs": [],
   "source": [
    "xmsg = function(start, ...) {\n",
    "    et = Sys.time() - start\n",
    "    message(sprintf(\"[%8.2fs] \", as.double(et, units=\"secs\")), ...)\n",
    "}"
   ]
  },
  {
   "cell_type": "markdown",
   "metadata": {},
   "source": [
    "## Clustering Algorithm"
   ]
  },
  {
   "cell_type": "markdown",
   "metadata": {},
   "source": [
    "We cluster ISBNs by taking the bipartite graph of ISBNs and records, and computing the closure for each ISBN.  Each closure becomes a cluster with a single ‘book’ ID."
   ]
  },
  {
   "cell_type": "code",
   "execution_count": 75,
   "metadata": {},
   "outputs": [],
   "source": [
    "merge_clusters = function(...) {\n",
    "    stack = bind_rows(...)\n",
    "    stack %>% group_by(isbn) %>% \n",
    "        summarize(cluster=min(cluster)) %>%\n",
    "        ungroup() %>%\n",
    "        mutate(cluster=as.integer(cluster))\n",
    "}"
   ]
  },
  {
   "cell_type": "code",
   "execution_count": 88,
   "metadata": {},
   "outputs": [],
   "source": [
    "cluster_isbns = function(isbn_rec_tbl, bs=10000) {\n",
    "    start = Sys.time()\n",
    "    xmsg(start, \"initializing clusters\")\n",
    "    clusters = isbn_rec_tbl %>% group_by(isbn) %>% summarize(cluster=min(record)) %>% ungroup()\n",
    "    xmsg(start, \"populating edges\")\n",
    "    edges = isbn_rec_tbl %>%\n",
    "        rename(left_isbn = isbn) %>%\n",
    "        inner_join(isbn_rec_tbl %>% rename(right_isbn = isbn)) %>%\n",
    "        select(left_isbn, right_isbn) %>%\n",
    "        distinct()\n",
    "    xmsg(start, \"clustering \", nrow(clusters), \" with \", nrow(edges), \" edges\")\n",
    "    # make blocks for parallelism\n",
    "    #block_starts = seq(1, nrow(edges), bs)\n",
    "    #block_ends = pmin(block_starts + (bs-1), nrow(edges))\n",
    "    nchanged = length(isbn_rec_tbl)\n",
    "    iter = 0\n",
    "    while (nchanged > 0) {\n",
    "        iter = iter + 1\n",
    "        xmsg(start, \"starting iteration \", iter)\n",
    "        # propagate cluster IDs from left edges to right edges\n",
    "        # new_clusters = foreach(start=block_starts, end=block_ends, .combine=merge_clusters, .multicombine=TRUE) %dopar% {\n",
    "            # eblock = edges[start:end, ]\n",
    "        new_clusters = clusters %>% rename(left_isbn = isbn) %>%\n",
    "                inner_join(edges) %>%\n",
    "                group_by(isbn=right_isbn) %>%\n",
    "                summarize(cluster=min(cluster)) %>%\n",
    "                ungroup()\n",
    "        # }\n",
    "        xmsg(start, \"computing changed clusters\")\n",
    "        nchanged = new_clusters %>%\n",
    "            inner_join(rename(clusters, old=cluster)) %>%\n",
    "            mutate(changed = cluster != old) %>%\n",
    "            pull(changed) %>%\n",
    "            sum()\n",
    "        clusters = new_clusters\n",
    "        xmsg(start, \"iteration \", iter, \" changed \", nchanged, \" clusters\")\n",
    "    }\n",
    "    xmsg(start, \"made \", length(unique(clusters$cluster)), \" clusters in \", iter, \" iterations\")\n",
    "    clusters\n",
    "}"
   ]
  },
  {
   "cell_type": "markdown",
   "metadata": {},
   "source": [
    "## Library of Congress"
   ]
  },
  {
   "cell_type": "code",
   "execution_count": 3,
   "metadata": {},
   "outputs": [
    {
     "data": {
      "text/html": [
       "<ol class=list-inline>\n",
       "\t<li>'tbl_df'</li>\n",
       "\t<li>'tbl'</li>\n",
       "\t<li>'data.frame'</li>\n",
       "</ol>\n"
      ],
      "text/latex": [
       "\\begin{enumerate*}\n",
       "\\item 'tbl\\_df'\n",
       "\\item 'tbl'\n",
       "\\item 'data.frame'\n",
       "\\end{enumerate*}\n"
      ],
      "text/markdown": [
       "1. 'tbl_df'\n",
       "2. 'tbl'\n",
       "3. 'data.frame'\n",
       "\n",
       "\n"
      ],
      "text/plain": [
       "[1] \"tbl_df\"     \"tbl\"        \"data.frame\""
      ]
     },
     "metadata": {},
     "output_type": "display_data"
    },
    {
     "data": {
      "text/html": [
       "6600638"
      ],
      "text/latex": [
       "6600638"
      ],
      "text/markdown": [
       "6600638"
      ],
      "text/plain": [
       "[1] 6600638"
      ]
     },
     "metadata": {},
     "output_type": "display_data"
    }
   ],
   "source": [
    "loc_rec_isbns = db %>% tbl('loc_isbn') %>% select(isbn, rec_id) %>% collect()\n",
    "print(loc_rec_isbns)"
   ]
  },
  {
   "cell_type": "code",
   "execution_count": 5,
   "metadata": {},
   "outputs": [
    {
     "name": "stdout",
     "output_type": "stream",
     "text": [
      "# A tibble: 6,524,465 x 2\n",
      "   isbn          id\n",
      "   <chr>      <int>\n",
      " 1 0687132924     1\n",
      " 2 8473512243     2\n",
      " 3 9682301084     3\n",
      " 4 0316493953     4\n",
      " 5 0202301575     5\n",
      " 6 0912832177     6\n",
      " 7 0675093686     7\n",
      " 8 9686021086     8\n",
      " 9 0716501864     9\n",
      "10 0871622092    10\n",
      "# ... with 6,524,455 more rows\n"
     ]
    }
   ],
   "source": [
    "loc_isbn_ids = loc_rec_isbns %>% select(isbn) %>% distinct() %>% mutate(id=1:n())\n",
    "print(loc_isbn_ids)"
   ]
  },
  {
   "cell_type": "code",
   "execution_count": 10,
   "metadata": {},
   "outputs": [
    {
     "name": "stderr",
     "output_type": "stream",
     "text": [
      "Joining, by = \"isbn\"\n"
     ]
    },
    {
     "name": "stdout",
     "output_type": "stream",
     "text": [
      "            isbn  record\n",
      "      1:       1 2784948\n",
      "      2:       2 2784949\n",
      "      3:       3 2784951\n",
      "      4:       4 2784970\n",
      "      5:       5 2784977\n",
      "     ---                \n",
      "6600634: 6524461 2784902\n",
      "6600635: 6524462 2784903\n",
      "6600636: 6524463 2784928\n",
      "6600637: 6524464 2784936\n",
      "6600638: 6524465 2784943\n"
     ]
    }
   ],
   "source": [
    "loc_rec_edges = loc_rec_isbns %>% inner_join(loc_isbn_ids) %>% select(isbn=id, record=rec_id) %>% data.table()\n",
    "print(loc_rec_edges)"
   ]
  },
  {
   "cell_type": "code",
   "execution_count": 89,
   "metadata": {},
   "outputs": [
    {
     "name": "stderr",
     "output_type": "stream",
     "text": [
      "[    0.00s] initializing clusters\n",
      "[    7.57s] populating edges\n",
      "Joining, by = \"record\"\n",
      "[   19.00s] clustering 6524465 with 10491947 edges\n",
      "[   19.00s] starting iteration 1\n",
      "Joining, by = \"left_isbn\"\n",
      "[   32.31s] computing changed clusters\n",
      "Joining, by = \"isbn\"\n",
      "[   35.09s] iteration 1 changed 23433 clusters\n",
      "[   35.09s] starting iteration 2\n",
      "Joining, by = \"left_isbn\"\n",
      "[   47.10s] computing changed clusters\n",
      "Joining, by = \"isbn\"\n",
      "[   49.78s] iteration 2 changed 703 clusters\n",
      "[   49.79s] starting iteration 3\n",
      "Joining, by = \"left_isbn\"\n",
      "[   63.98s] computing changed clusters\n",
      "Joining, by = \"isbn\"\n",
      "[   66.65s] iteration 3 changed 22 clusters\n",
      "[   66.66s] starting iteration 4\n",
      "Joining, by = \"left_isbn\"\n",
      "[   80.48s] computing changed clusters\n",
      "Joining, by = \"isbn\"\n",
      "[   86.21s] iteration 4 changed 1 clusters\n",
      "[   86.22s] starting iteration 5\n",
      "Joining, by = \"left_isbn\"\n",
      "[   99.35s] computing changed clusters\n",
      "Joining, by = \"isbn\"\n",
      "[  101.88s] iteration 5 changed 0 clusters\n",
      "[  101.88s] made 5186987 clusters in 5 iterations\n"
     ]
    }
   ],
   "source": [
    "loc_clusters = cluster_isbns(loc_rec_edges)"
   ]
  },
  {
   "cell_type": "markdown",
   "metadata": {},
   "source": [
    "How big are our largest clusters?"
   ]
  },
  {
   "cell_type": "code",
   "execution_count": 86,
   "metadata": {},
   "outputs": [
    {
     "data": {
      "text/html": [
       "<table>\n",
       "<thead><tr><th scope=col>cluster</th><th scope=col>nisbns</th></tr></thead>\n",
       "<tbody>\n",
       "\t<tr><td>9927813</td><td>162    </td></tr>\n",
       "\t<tr><td>  44464</td><td>129    </td></tr>\n",
       "\t<tr><td>7451086</td><td>123    </td></tr>\n",
       "\t<tr><td>2577188</td><td>116    </td></tr>\n",
       "\t<tr><td>6446243</td><td> 98    </td></tr>\n",
       "\t<tr><td>7394785</td><td> 84    </td></tr>\n",
       "</tbody>\n",
       "</table>\n"
      ],
      "text/latex": [
       "\\begin{tabular}{r|ll}\n",
       " cluster & nisbns\\\\\n",
       "\\hline\n",
       "\t 9927813 & 162    \\\\\n",
       "\t   44464 & 129    \\\\\n",
       "\t 7451086 & 123    \\\\\n",
       "\t 2577188 & 116    \\\\\n",
       "\t 6446243 &  98    \\\\\n",
       "\t 7394785 &  84    \\\\\n",
       "\\end{tabular}\n"
      ],
      "text/markdown": [
       "\n",
       "cluster | nisbns | \n",
       "|---|---|---|---|---|---|\n",
       "| 9927813 | 162     | \n",
       "|   44464 | 129     | \n",
       "| 7451086 | 123     | \n",
       "| 2577188 | 116     | \n",
       "| 6446243 |  98     | \n",
       "| 7394785 |  84     | \n",
       "\n",
       "\n"
      ],
      "text/plain": [
       "  cluster nisbns\n",
       "1 9927813 162   \n",
       "2   44464 129   \n",
       "3 7451086 123   \n",
       "4 2577188 116   \n",
       "5 6446243  98   \n",
       "6 7394785  84   "
      ]
     },
     "metadata": {},
     "output_type": "display_data"
    }
   ],
   "source": [
    "cluster_sizes = loc_clusters %>% group_by(cluster) %>% summarize(nisbns=n()) %>% ungroup() \n",
    "cluster_sizes %>% arrange(-nisbns) %>% head()"
   ]
  },
  {
   "cell_type": "code",
   "execution_count": 87,
   "metadata": {},
   "outputs": [
    {
     "data": {},
     "metadata": {},
     "output_type": "display_data"
    },
    {
     "data": {
      "image/png": "[encoded data removed]",
      "text/plain": [
       "plot without title"
      ]
     },
     "metadata": {},
     "output_type": "display_data",
     "source": "R display func"
    }
   ],
   "source": [
    "ggplot(cluster_sizes) +\n",
    "    aes(x=nisbns) +\n",
    "    geom_histogram(binwidth=1)"
   ]
  },
  {
   "cell_type": "code",
   "execution_count": 70,
   "metadata": {},
   "outputs": [
    {
     "name": "stderr",
     "output_type": "stream",
     "text": [
      "Joining, by = \"id\"\n"
     ]
    }
   ],
   "source": [
    "loc_clusters %>% rename(id=isbn) %>% inner_join(loc_isbn_ids) %>% select(isbn, cluster) %>%\n",
    "    copy_to(db, ., name='loc_isbn_cluster', overwrite=TRUE, temporary=FALSE,\n",
    "            unique_indexes=list(\"isbn\"), indexes=list(\"cluster\"))"
   ]
  },
  {
   "cell_type": "markdown",
   "metadata": {},
   "source": [
    "## OpenLibrary"
   ]
  },
  {
   "cell_type": "code",
   "execution_count": null,
   "metadata": {},
   "outputs": [],
   "source": [
    "ol_rec_edges = db %>% tbl('ol_isbn_link2') %>% select(isbn=isbn_id, record=book_code) %>% \n",
    "    collect()"
   ]
  },
  {
   "cell_type": "code",
   "execution_count": 74,
   "metadata": {},
   "outputs": [
    {
     "name": "stdout",
     "output_type": "stream",
     "text": [
      "# A tibble: 21,062,688 x 2\n",
      "       isbn    record\n",
      " *    <int>     <int>\n",
      " 1  1503099 105437266\n",
      " 2  2659462 105437266\n",
      " 3  5372388 112604572\n",
      " 4 12702878 112604572\n",
      " 5  2276794 102386629\n",
      " 6  4327917 102386629\n",
      " 7 15824799 105798955\n",
      " 8 12504108 102066511\n",
      " 9  8742366 102066511\n",
      "10 10151017 110581121\n",
      "# ... with 21,062,678 more rows\n"
     ]
    }
   ],
   "source": [
    "print(ol_rec_edges)"
   ]
  },
  {
   "cell_type": "code",
   "execution_count": 90,
   "metadata": {},
   "outputs": [
    {
     "name": "stderr",
     "output_type": "stream",
     "text": [
      "[    0.00s] initializing clusters\n",
      "[   59.45s] populating edges\n",
      "Joining, by = \"record\"\n",
      "[  437.96s] clustering 18404050 with 205979114 edges\n",
      "[  437.97s] starting iteration 1\n",
      "Joining, by = \"left_isbn\"\n",
      "[  691.55s] computing changed clusters\n",
      "Joining, by = \"isbn\"\n",
      "[  699.67s] iteration 1 changed 1028071 clusters\n",
      "[  699.68s] starting iteration 2\n",
      "Joining, by = \"left_isbn\"\n",
      "[  897.57s] computing changed clusters\n",
      "Joining, by = \"isbn\"\n",
      "[  904.87s] iteration 2 changed 111356 clusters\n",
      "[  904.88s] starting iteration 3\n",
      "Joining, by = \"left_isbn\"\n",
      "[ 1084.15s] computing changed clusters\n",
      "Joining, by = \"isbn\"\n",
      "[ 1091.63s] iteration 3 changed 16333 clusters\n",
      "[ 1091.63s] starting iteration 4\n",
      "Joining, by = \"left_isbn\"\n",
      "[ 1274.60s] computing changed clusters\n",
      "Joining, by = \"isbn\"\n",
      "[ 1282.12s] iteration 4 changed 6039 clusters\n",
      "[ 1282.12s] starting iteration 5\n",
      "Joining, by = \"left_isbn\"\n",
      "[ 1461.77s] computing changed clusters\n",
      "Joining, by = \"isbn\"\n",
      "[ 1469.16s] iteration 5 changed 3677 clusters\n",
      "[ 1469.17s] starting iteration 6\n",
      "Joining, by = \"left_isbn\"\n",
      "[ 1642.18s] computing changed clusters\n",
      "Joining, by = \"isbn\"\n",
      "[ 1649.32s] iteration 6 changed 2237 clusters\n",
      "[ 1649.33s] starting iteration 7\n",
      "Joining, by = \"left_isbn\"\n",
      "[ 1862.72s] computing changed clusters\n",
      "Joining, by = \"isbn\"\n",
      "[ 1871.01s] iteration 7 changed 1086 clusters\n",
      "[ 1871.01s] starting iteration 8\n",
      "Joining, by = \"left_isbn\"\n",
      "[ 2129.31s] computing changed clusters\n",
      "Joining, by = \"isbn\"\n",
      "[ 2138.34s] iteration 8 changed 512 clusters\n",
      "[ 2138.34s] starting iteration 9\n",
      "Joining, by = \"left_isbn\"\n",
      "[ 2384.70s] computing changed clusters\n",
      "Joining, by = \"isbn\"\n",
      "[ 2393.32s] iteration 9 changed 223 clusters\n",
      "[ 2393.32s] starting iteration 10\n",
      "Joining, by = \"left_isbn\"\n",
      "[ 2639.42s] computing changed clusters\n",
      "Joining, by = \"isbn\"\n",
      "[ 2647.68s] iteration 10 changed 31 clusters\n",
      "[ 2647.68s] starting iteration 11\n",
      "Joining, by = \"left_isbn\"\n",
      "[ 2888.93s] computing changed clusters\n",
      "Joining, by = \"isbn\"\n",
      "[ 2897.31s] iteration 11 changed 0 clusters\n",
      "[ 2897.31s] made 9829550 clusters in 11 iterations\n"
     ]
    }
   ],
   "source": [
    "ol_clusters = cluster_isbns(ol_rec_edges)"
   ]
  },
  {
   "cell_type": "code",
   "execution_count": 91,
   "metadata": {},
   "outputs": [
    {
     "data": {
      "text/html": [
       "<table>\n",
       "<thead><tr><th scope=col>cluster</th><th scope=col>nisbns</th></tr></thead>\n",
       "<tbody>\n",
       "\t<tr><td>105077683</td><td>7520     </td></tr>\n",
       "\t<tr><td>100339351</td><td>6518     </td></tr>\n",
       "\t<tr><td>100004153</td><td>5178     </td></tr>\n",
       "\t<tr><td>107956464</td><td>4276     </td></tr>\n",
       "\t<tr><td>106611855</td><td>2820     </td></tr>\n",
       "\t<tr><td>100058368</td><td>2111     </td></tr>\n",
       "</tbody>\n",
       "</table>\n"
      ],
      "text/latex": [
       "\\begin{tabular}{r|ll}\n",
       " cluster & nisbns\\\\\n",
       "\\hline\n",
       "\t 105077683 & 7520     \\\\\n",
       "\t 100339351 & 6518     \\\\\n",
       "\t 100004153 & 5178     \\\\\n",
       "\t 107956464 & 4276     \\\\\n",
       "\t 106611855 & 2820     \\\\\n",
       "\t 100058368 & 2111     \\\\\n",
       "\\end{tabular}\n"
      ],
      "text/markdown": [
       "\n",
       "cluster | nisbns | \n",
       "|---|---|---|---|---|---|\n",
       "| 105077683 | 7520      | \n",
       "| 100339351 | 6518      | \n",
       "| 100004153 | 5178      | \n",
       "| 107956464 | 4276      | \n",
       "| 106611855 | 2820      | \n",
       "| 100058368 | 2111      | \n",
       "\n",
       "\n"
      ],
      "text/plain": [
       "  cluster   nisbns\n",
       "1 105077683 7520  \n",
       "2 100339351 6518  \n",
       "3 100004153 5178  \n",
       "4 107956464 4276  \n",
       "5 106611855 2820  \n",
       "6 100058368 2111  "
      ]
     },
     "metadata": {},
     "output_type": "display_data"
    }
   ],
   "source": [
    "ol_cluster_sizes = ol_clusters %>% group_by(cluster) %>% summarize(nisbns=n()) %>% ungroup() \n",
    "ol_cluster_sizes %>% arrange(-nisbns) %>% head()"
   ]
  },
  {
   "cell_type": "code",
   "execution_count": 87,
   "metadata": {},
   "outputs": [
    {
     "data": {},
     "metadata": {},
     "output_type": "display_data"
    },
    {
     "data": {
      "image/png": "[encoded data removed]",
      "text/plain": [
       "plot without title"
      ]
     },
     "metadata": {},
     "output_type": "display_data",
     "source": "R display func"
    }
   ],
   "source": [
    "ggplot(ol_cluster_sizes) +\n",
    "    aes(x=nisbns) +\n",
    "    geom_histogram(binwidth=1)"
   ]
  },
  {
   "cell_type": "code",
   "execution_count": 92,
   "metadata": {},
   "outputs": [],
   "source": [
    "ol_clusters %>% select(isbn_id=isbn, cluster) %>%\n",
    "    copy_to(db, ., name='ol_isbn_cluster', overwrite=TRUE, temporary=FALSE,\n",
    "            unique_indexes=list(\"isbn_id\"), indexes=list(\"cluster\"))"
   ]
  },
  {
   "cell_type": "code",
   "execution_count": null,
   "metadata": {},
   "outputs": [],
   "source": []
  }
 ],
 "metadata": {
  "kernelspec": {
   "display_name": "R",
   "language": "R",
   "name": "ir"
  },
  "language_info": {
   "codemirror_mode": "r",
   "file_extension": ".r",
   "mimetype": "text/x-r-source",
   "name": "R",
   "pygments_lexer": "r",
   "version": "3.4.3"
  }
 },
 "nbformat": 4,
 "nbformat_minor": 2
}
