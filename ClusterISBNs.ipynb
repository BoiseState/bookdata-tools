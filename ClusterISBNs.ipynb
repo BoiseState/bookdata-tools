{
 "cells": [
  {
   "cell_type": "markdown",
   "metadata": {},
   "source": [
    "# ISBN Clustering"
   ]
  },
  {
   "cell_type": "code",
   "execution_count": null,
   "metadata": {},
   "outputs": [],
   "source": [
    "library(data.table)\n",
    "library(tidyverse)"
   ]
  },
  {
   "cell_type": "code",
   "execution_count": null,
   "metadata": {},
   "outputs": [],
   "source": [
    "options(repr.plot.height=5)"
   ]
  },
  {
   "cell_type": "code",
   "execution_count": null,
   "metadata": {},
   "outputs": [],
   "source": [
    "db = DBI::dbConnect(RPostgreSQL::PostgreSQL(), dbname='openlib')"
   ]
  },
  {
   "cell_type": "code",
   "execution_count": null,
   "metadata": {},
   "outputs": [],
   "source": [
    "numspaces = list(work=100000000, edition=200000000, rec=300000000, isbn=900000000)"
   ]
  },
  {
   "cell_type": "markdown",
   "metadata": {},
   "source": [
    "## Clustering Algorithm"
   ]
  },
  {
   "cell_type": "markdown",
   "metadata": {},
   "source": [
    "We cluster ISBNs by taking the bipartite graph of ISBNs and records, and computing the closure for each ISBN.  Each closure becomes a cluster with a single ‘book’ ID."
   ]
  },
  {
   "cell_type": "code",
   "execution_count": null,
   "metadata": {},
   "outputs": [],
   "source": [
    "xmsg = function(start, ...) {\n",
    "    tag = sprintf(\"[%8.2f] \", as.double(Sys.time() - start, units=\"secs\"))\n",
    "    message(tag, ...)\n",
    "}"
   ]
  },
  {
   "cell_type": "code",
   "execution_count": null,
   "metadata": {},
   "outputs": [],
   "source": [
    "tools::Rcmd(c(\"SHLIB\", \"fcluster.f95\"))\n",
    "dyn.load(\"fcluster.so\")\n",
    "cluster_isbns = function(isbn_rec_tbl) {\n",
    "    start = Sys.time()\n",
    "    xmsg(start, \"initializing clusters\")\n",
    "    clusters = isbn_rec_tbl %>% group_by(isbn_id) %>% summarize(cluster=min(record)) %>% ungroup() %>%\n",
    "        mutate(cluster = as.integer(cluster), ino=1:n())\n",
    "    xmsg(start, \"populating edges\")\n",
    "    intbl = isbn_rec_tbl %>% inner_join(select(clusters, isbn_id, ino))\n",
    "    edges = intbl %>%\n",
    "        select(left_isbn = ino, record) %>%\n",
    "        inner_join(intbl %>% select(right_isbn = ino, record)) %>%\n",
    "        select(left_isbn, right_isbn) %>%\n",
    "        distinct()\n",
    "    xmsg(start, \"clustering \", nrow(clusters), \" isbns with \", \n",
    "         nrow(edges), \" edges (\", length(unique(clusters$cluster)), \" initial clusters)\")    \n",
    "    res = .Fortran(\"compute_clusters\", \n",
    "                   nc=nrow(clusters), clusters=clusters$cluster, \n",
    "                   ne=nrow(edges), ls=edges$left_isbn, rs=edges$right_isbn,\n",
    "                   iter=0L)\n",
    "    rcs = res$clusters\n",
    "    xmsg(start, \"built \", length(unique(rcs)), \" clusters in \", res$iter, \" iterations\")\n",
    "    data_frame(isbn_id=clusters$isbn_id, cluster=rcs)\n",
    "}"
   ]
  },
  {
   "cell_type": "markdown",
   "metadata": {},
   "source": [
    "## Library of Congress"
   ]
  },
  {
   "cell_type": "code",
   "execution_count": null,
   "metadata": {},
   "outputs": [],
   "source": [
    "loc_rec_isbns = db %>% tbl('loc_rec_isbn') %>% select(isbn_id, record=rec_id) %>% collect()\n",
    "print(loc_rec_isbns)"
   ]
  },
  {
   "cell_type": "code",
   "execution_count": null,
   "metadata": {},
   "outputs": [],
   "source": [
    "loc_clusters = cluster_isbns(loc_rec_isbns)"
   ]
  },
  {
   "cell_type": "markdown",
   "metadata": {},
   "source": [
    "How big are our largest clusters?"
   ]
  },
  {
   "cell_type": "code",
   "execution_count": null,
   "metadata": {},
   "outputs": [],
   "source": [
    "cluster_sizes = loc_clusters %>% group_by(cluster) %>% summarize(nisbns=n()) %>% ungroup() \n",
    "cluster_sizes %>% arrange(-nisbns) %>% head()"
   ]
  },
  {
   "cell_type": "code",
   "execution_count": null,
   "metadata": {},
   "outputs": [],
   "source": [
    "ggplot(cluster_sizes) +\n",
    "    aes(x=nisbns) +\n",
    "    geom_histogram(binwidth=1)"
   ]
  },
  {
   "cell_type": "code",
   "execution_count": null,
   "metadata": {},
   "outputs": [],
   "source": [
    "loc_clusters %>% select(isbn_id, cluster) %>% write_csv('data/loc-clusters.csv', col_names = FALSE)"
   ]
  },
  {
   "cell_type": "markdown",
   "metadata": {},
   "source": [
    "## OpenLibrary"
   ]
  },
  {
   "cell_type": "code",
   "execution_count": null,
   "metadata": {},
   "outputs": [],
   "source": [
    "ol_rec_edges = db %>% tbl('ol_isbn_link') %>% select(isbn_id, record=book_code) %>% \n",
    "    collect()"
   ]
  },
  {
   "cell_type": "code",
   "execution_count": null,
   "metadata": {},
   "outputs": [],
   "source": [
    "print(ol_rec_edges)"
   ]
  },
  {
   "cell_type": "code",
   "execution_count": null,
   "metadata": {},
   "outputs": [],
   "source": [
    "ol_clusters = cluster_isbns(ol_rec_edges)"
   ]
  },
  {
   "cell_type": "code",
   "execution_count": null,
   "metadata": {},
   "outputs": [],
   "source": [
    "ol_cluster_sizes = ol_clusters %>% group_by(cluster) %>% summarize(nisbns=n()) %>% ungroup() \n",
    "ol_cluster_sizes %>% arrange(-nisbns) %>% head()"
   ]
  },
  {
   "cell_type": "code",
   "execution_count": null,
   "metadata": {},
   "outputs": [],
   "source": [
    "ol_cluster_sizes = ol_cluster_sizes %>% mutate(bucket = as.integer(log10(nisbns)))\n",
    "ol_cluster_buckets = ol_cluster_sizes %>% filter(nisbns > 1) %>% group_by(bucket) %>% summarize(n=n())\n",
    "ol_cluster_buckets"
   ]
  },
  {
   "cell_type": "code",
   "execution_count": null,
   "metadata": {},
   "outputs": [],
   "source": [
    "ggplot(ol_cluster_buckets) +\n",
    "    aes(x=bucket, y=n) +\n",
    "    geom_bar(stat='identity')"
   ]
  },
  {
   "cell_type": "code",
   "execution_count": null,
   "metadata": {},
   "outputs": [],
   "source": [
    "ol_clusters %>% select(isbn_id, cluster) %>% write_csv('data/ol-clusters.csv', col_names = FALSE)"
   ]
  },
  {
   "cell_type": "markdown",
   "metadata": {},
   "source": [
    "## Integrated Clusters"
   ]
  },
  {
   "cell_type": "code",
   "execution_count": null,
   "metadata": {},
   "outputs": [],
   "source": [
    "all_isbn_recs = bind_rows(\n",
    "    loc_rec_isbns %>% mutate(record = record + numspaces$rec),\n",
    "    ol_rec_edges\n",
    ")"
   ]
  },
  {
   "cell_type": "code",
   "execution_count": null,
   "metadata": {},
   "outputs": [],
   "source": [
    "print(all_isbn_recs)"
   ]
  },
  {
   "cell_type": "code",
   "execution_count": null,
   "metadata": {},
   "outputs": [],
   "source": [
    "int_clusters = cluster_isbns(all_isbn_recs)"
   ]
  },
  {
   "cell_type": "code",
   "execution_count": null,
   "metadata": {},
   "outputs": [],
   "source": [
    "int_cluster_sizes = int_clusters %>% group_by(cluster) %>% summarize(nisbns=n()) %>% ungroup() \n",
    "int_cluster_sizes %>% arrange(-nisbns) %>% head()"
   ]
  },
  {
   "cell_type": "code",
   "execution_count": null,
   "metadata": {},
   "outputs": [],
   "source": [
    "int_cluster_sizes = int_cluster_sizes %>% mutate(bucket = as.integer(log10(nisbns)))\n",
    "int_cluster_buckets = int_cluster_sizes %>% filter(nisbns > 1) %>% group_by(bucket) %>% summarize(n=n())\n",
    "int_cluster_buckets"
   ]
  },
  {
   "cell_type": "code",
   "execution_count": null,
   "metadata": {},
   "outputs": [],
   "source": [
    "ggplot(int_cluster_buckets) +\n",
    "    aes(x=bucket, y=n) +\n",
    "    geom_bar(stat='identity')"
   ]
  },
  {
   "cell_type": "code",
   "execution_count": null,
   "metadata": {},
   "outputs": [],
   "source": [
    "int_clusters %>% select(isbn_id, cluster) %>% write_csv('data/isbn-clusters.csv', col_names=FALSE)"
   ]
  },
  {
   "cell_type": "markdown",
   "metadata": {},
   "source": [
    "### Load ISBN info to work on checking clusters"
   ]
  },
  {
   "cell_type": "code",
   "execution_count": null,
   "metadata": {},
   "outputs": [],
   "source": [
    "isbn_ids = db %>% tbl('isbn_id') %>% collect()\n",
    "print(isbn_ids)"
   ]
  },
  {
   "cell_type": "markdown",
   "metadata": {},
   "source": [
    "How many ISBNs are in LOC but not OL?"
   ]
  },
  {
   "cell_type": "code",
   "execution_count": null,
   "metadata": {},
   "outputs": [],
   "source": [
    "missing_isbns = loc_clusters %>% anti_join(select(ol_clusters, isbn_id))\n",
    "nrow(missing_isbns)"
   ]
  },
  {
   "cell_type": "code",
   "execution_count": null,
   "metadata": {},
   "outputs": [],
   "source": []
  }
 ],
 "metadata": {
  "kernelspec": {
   "display_name": "R",
   "language": "R",
   "name": "ir"
  },
  "language_info": {
   "codemirror_mode": "r",
   "file_extension": ".r",
   "mimetype": "text/x-r-source",
   "name": "R",
   "pygments_lexer": "r",
   "version": "3.5.1"
  }
 },
 "nbformat": 4,
 "nbformat_minor": 2
}
